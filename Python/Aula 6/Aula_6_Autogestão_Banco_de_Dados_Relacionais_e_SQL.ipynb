{
  "nbformat": 4,
  "nbformat_minor": 0,
  "metadata": {
    "colab": {
      "provenance": []
    },
    "kernelspec": {
      "name": "python3",
      "display_name": "Python 3"
    },
    "language_info": {
      "name": "python"
    }
  },
  "cells": [
    {
      "cell_type": "markdown",
      "source": [
        "# Autogestão - Banco de Dados Relacionais e SQL"
      ],
      "metadata": {
        "id": "x9zjxv6ziyeW"
      }
    },
    {
      "cell_type": "markdown",
      "source": [
        "Utilize DB-fiddle: https://www.db-fiddle.com/"
      ],
      "metadata": {
        "id": "Vu4dexgcsQAZ"
      }
    },
    {
      "cell_type": "markdown",
      "source": [
        "### 1. Criando tabelas (15 min)"
      ],
      "metadata": {
        "id": "8u062VlhdcY0"
      }
    },
    {
      "cell_type": "markdown",
      "source": [
        "a. Crie uma tabela chamada filmes com as colunas:\n",
        "\n",
        "* id (inteiro, chave primária, serial (autoincremento))\n",
        "* titulo (texto, obrigatório)\n",
        "* genero (texto, obrigatório)\n",
        "* ano_lancamento (inteiro)\n",
        "\n",
        "b. Crie uma tabela chamada avaliacoes com as colunas:\n",
        "\n",
        "* id (inteiro, chave primária, serial(autoincremento))\n",
        "* filme_id (inteiro, chave estrangeira que referencia a tabela filmes)\n",
        "* nota (inteiro, de 1 a 5)\n",
        "* comentario (texto, opcional)"
      ],
      "metadata": {
        "id": "IYCSTqqCdp_H"
      }
    },
    {
      "cell_type": "code",
      "source": [
        "import sqlite3\n",
        "import pandas as pd\n",
        "\n",
        "# Criar conexão (banco em memória → \":memory:\")\n",
        "conn = sqlite3.connect(\":memory:\")\n",
        "cur = conn.cursor()\n",
        "\n",
        "# Criar tabelas\n",
        "cur.executescript(\"\"\"\n",
        "DROP TABLE IF EXISTS avaliacoes;\n",
        "DROP TABLE IF EXISTS filmes;\n",
        "\n",
        "CREATE TABLE filmes (\n",
        "  id INTEGER PRIMARY KEY AUTOINCREMENT,\n",
        "  titulo TEXT NOT NULL,\n",
        "  genero TEXT NOT NULL,\n",
        "  ano_lancamento INT\n",
        ");\n",
        "\n",
        "CREATE TABLE avaliacoes (\n",
        "  id INTEGER PRIMARY KEY AUTOINCREMENT,\n",
        "  filme_id INT NOT NULL,\n",
        "  nota INT NOT NULL CHECK (nota BETWEEN 1 AND 5),\n",
        "  comentario TEXT,\n",
        "  FOREIGN KEY (filme_id) REFERENCES filmes(id)\n",
        ");\n",
        "\"\"\")"
      ],
      "metadata": {
        "id": "g7Pyrm4gAkUV"
      },
      "execution_count": null,
      "outputs": []
    },
    {
      "cell_type": "markdown",
      "source": [
        "### 2. Inserindo linhas nas tabelas (15 min)"
      ],
      "metadata": {
        "id": "WgkriamjdhpA"
      }
    },
    {
      "cell_type": "markdown",
      "source": [
        "a. Insira 20 filmes diferentes na tabela, de gêneros variados (ação, comédia, drama, animação, etc.).\n",
        "\n",
        "b. Insira 40 avaliações para diferentes filmes, variando as notas (ex.: um filme com nota 5, outro com nota 3).\n",
        "\n",
        "👉 Dica: Podemos usar IA para gerar exemplos para Banco de Dados."
      ],
      "metadata": {
        "id": "xEmeDF3kdzIR"
      }
    },
    {
      "cell_type": "code",
      "source": [
        "# Inserir 20 filmes\n",
        "cur.executescript(\"\"\"\n",
        "INSERT INTO filmes (titulo, genero, ano_lancamento) VALUES\n",
        "('O Poderoso Chefão', 'Drama', 1972),\n",
        "('Vingadores: Ultimato', 'Ação', 2019),\n",
        "('Toy Story', 'Animação', 1995),\n",
        "('Parasita', 'Drama', 2019),\n",
        "('Coringa', 'Drama', 2019),\n",
        "('Jurassic Park', 'Aventura', 1993),\n",
        "('Matrix', 'Ficção Científica', 1999),\n",
        "('Shrek', 'Animação', 2001),\n",
        "('Titanic', 'Romance', 1997),\n",
        "('O Senhor dos Anéis: A Sociedade do Anel', 'Fantasia', 2001),\n",
        "('Pantera Negra', 'Ação', 2018),\n",
        "('Se Beber, Não Case!', 'Comédia', 2009),\n",
        "('Procurando Nemo', 'Animação', 2003),\n",
        "('O Iluminado', 'Terror', 1980),\n",
        "('Clube da Luta', 'Drama', 1999),\n",
        "('Cidade de Deus', 'Drama', 2002),\n",
        "('Homem-Aranha: Sem Volta Para Casa', 'Ação', 2021),\n",
        "('Divertida Mente', 'Animação', 2015),\n",
        "('O Rei Leão', 'Animação', 1994),\n",
        "('Forrest Gump', 'Drama', 1994);\n",
        "\"\"\")\n",
        "\n",
        "# Inserir 40 avaliações (2 por filme)\n",
        "cur.executescript(\"\"\"\n",
        "INSERT INTO avaliacoes (filme_id, nota, comentario) VALUES\n",
        "(1, 5, 'Um clássico absoluto.'),(1, 4, 'Longo, mas excelente.'),\n",
        "(2, 5, 'Final épico.'),(2, 3, 'Muito efeito, pouca história.'),\n",
        "(3, 5, 'Mudou a animação.'),(3, 4, 'Funciona para todas as idades.'),\n",
        "(4, 5, 'Genial e tenso.'),(4, 4, 'Pesado, porém brilhante.'),\n",
        "(5, 5, 'Atuação impecável.'),(5, 3, 'Sombrio pra meu gosto.'),\n",
        "(6, 5, 'Revolucionário nos efeitos.'),(6, 4, 'Dinossauros realistas.'),\n",
        "(7, 5, 'Virada na ficção científica.'),(7, 4, 'Algumas partes confusas.'),\n",
        "(8, 4, 'Divertido e esperto.'),(8, 5, 'Trilha sonora ótima.'),\n",
        "(9, 5, 'Emocionante.'),(9, 3, 'Meloso.'),\n",
        "(10, 5, 'Obra-prima épica.'),(10, 4, 'Longo, mas vale.'),\n",
        "(11, 5, 'Representatividade + ação.'),(11, 4, 'Bom, faltou desenvolvimento.'),\n",
        "(12, 4, 'Rende boas risadas.'),(12, 3, 'Algumas piadas forçadas.'),\n",
        "(13, 5, 'Linda história.'),(13, 4, 'Visual ótimo.'),\n",
        "(14, 5, 'Terror psicológico clássico.'),(14, 3, 'Ritmo lento às vezes.'),\n",
        "(15, 5, 'Final surpreendente.'),(15, 4, 'Roteiro muito bom.'),\n",
        "(16, 5, 'Impactante e real.'),(16, 4, 'Duro, mas necessário.'),\n",
        "(17, 5, 'Reunião épica.'),(17, 4, 'Fan service divertido.'),\n",
        "(18, 5, 'Sensível e criativo.'),(18, 4, 'Reflexivo sobre emoções.'),\n",
        "(19, 5, 'Atemporal.'),(19, 4, 'Trilha inesquecível.'),\n",
        "(20, 5, 'Inspirador.'),(20, 4, 'Grande cinema.');\n",
        "\"\"\")\n",
        "\n",
        "# Conferir se os dados entraram (juntando filmes e avaliações)\n",
        "df = pd.read_sql_query(\"\"\"\n",
        "SELECT f.titulo, a.nota, a.comentario\n",
        "FROM filmes f\n",
        "JOIN avaliacoes a ON f.id = a.filme_id\n",
        "LIMIT 20;\n",
        "\"\"\", conn)\n",
        "\n",
        "df.head()"
      ],
      "metadata": {
        "id": "br3f5uUnCTwg"
      },
      "execution_count": null,
      "outputs": []
    },
    {
      "cell_type": "markdown",
      "source": [
        "### 3. Consultando filmes"
      ],
      "metadata": {
        "id": "fsl6u8yUd1CJ"
      }
    },
    {
      "cell_type": "markdown",
      "source": [
        "a. Liste todos os filmes de um único gênero.\n",
        "\n",
        "b. Depois, liste apenas os filmes lançados depois de 2010.\n",
        "\n",
        "c. Liste todos os filmes em ordem alfabética de título.\n",
        "\n",
        "d. Liste todos os filmes ordenados pelo ano de lançamento (mais recente primeiro)."
      ],
      "metadata": {
        "id": "LaFtBmkGd1FO"
      }
    },
    {
      "cell_type": "code",
      "source": [
        "# 1. Consulta: listar todos os filmes de um único gênero (exemplo: Drama)\n",
        "# A query filtra apenas os registros da tabela filmes onde o gênero é 'Drama'\n",
        "df1 = pd.read_sql_query(\"SELECT * FROM filmes WHERE genero = 'Drama';\", conn)\n",
        "\n",
        "# Exibe os resultados da consulta (df1) em formato de tabela no Colab/Jupyter\n",
        "display(df1)\n",
        "\n",
        "# 2. Consulta: listar apenas os filmes lançados depois de 2010\n",
        "# A query retorna todos os filmes com ano_lancamento maior que 2010\n",
        "df2 = pd.read_sql_query(\"SELECT * FROM filmes WHERE ano_lancamento > 2010;\", conn)\n",
        "\n",
        "# Exibe os resultados da consulta (df2)\n",
        "display(df2)\n",
        "\n",
        "# 3. Consulta: listar todos os filmes em ordem alfabética de título\n",
        "# A query ordena os registros da tabela filmes pela coluna titulo em ordem crescente (ASC)\n",
        "df3 = pd.read_sql_query(\"SELECT * FROM filmes ORDER BY titulo ASC;\", conn)\n",
        "\n",
        "# Exibe os resultados da consulta (df3)\n",
        "display(df3)\n",
        "\n",
        "# 4. Consulta: listar todos os filmes ordenados pelo ano de lançamento (mais recente primeiro)\n",
        "# A query ordena pela coluna ano_lancamento em ordem decrescente (DESC),\n",
        "# o que traz primeiro os filmes mais novos\n",
        "df4 = pd.read_sql_query(\"SELECT * FROM filmes ORDER BY ano_lancamento DESC;\", conn)\n",
        "\n",
        "# Exibe os resultados da consulta (df4)\n",
        "display(df4)"
      ],
      "metadata": {
        "id": "SpYM58zBCzjy"
      },
      "execution_count": null,
      "outputs": []
    },
    {
      "cell_type": "markdown",
      "source": [
        "### 4. Consultando avaliações"
      ],
      "metadata": {
        "id": "ohKLse6zekl4"
      }
    },
    {
      "cell_type": "markdown",
      "source": [
        "a. Liste todas as avaliações ordenadas por nota decrescente.\n",
        "\n",
        "b. Selecione todas as avaliações com nota maior ou igual a 4.\n",
        "\n",
        "c. Selecione os comentários em que aparece as palavras 'bom' ou 'gostei'."
      ],
      "metadata": {
        "id": "F_dep9m8enam"
      }
    },
    {
      "cell_type": "code",
      "source": [
        "# 1. Liste todas as avaliações ordenadas por nota decrescente\n",
        "df1 = pd.read_sql_query(\"\"\"\n",
        "SELECT * FROM avaliacoes\n",
        "ORDER BY nota DESC;\n",
        "\"\"\", conn)\n",
        "display(df1)\n",
        "\n",
        "# 2. Selecione todas as avaliações com nota maior ou igual a 4\n",
        "df2 = pd.read_sql_query(\"\"\"\n",
        "SELECT * FROM avaliacoes\n",
        "WHERE nota >= 4;\n",
        "\"\"\", conn)\n",
        "display(df2)\n",
        "\n",
        "# 3. Selecione os comentários em que aparece as palavras 'bom' ou 'gostei'\n",
        "df3 = pd.read_sql_query(\"\"\"\n",
        "SELECT * FROM avaliacoes\n",
        "WHERE comentario LIKE '%bom%'\n",
        "   OR comentario LIKE '%gostei%';\n",
        "\"\"\", conn)\n",
        "display(df3)"
      ],
      "metadata": {
        "id": "GroUlhj2G9kz"
      },
      "execution_count": null,
      "outputs": []
    },
    {
      "cell_type": "markdown",
      "source": [
        "### 5. Funções de agregação"
      ],
      "metadata": {
        "id": "g86lWjZWerDK"
      }
    },
    {
      "cell_type": "markdown",
      "source": [
        "a. Verifique quantos filmes existem na tabela para cada gênero.\n",
        "\n",
        "b. Calcule a média das notas por filme (agrupando pelo filme_id).\n",
        "\n",
        "c. Liste apenas os filmes com nota média maior que 4."
      ],
      "metadata": {
        "id": "DYa_sy2xerzT"
      }
    },
    {
      "cell_type": "code",
      "source": [
        "# 1. Liste todos os filmes de um único gênero (exemplo: Drama)\n",
        "df1 = pd.read_sql_query(\"\"\"\n",
        "SELECT * FROM filmes\n",
        "WHERE genero = 'Drama';\n",
        "\"\"\", conn)\n",
        "display(df1)\n",
        "\n",
        "# 2. Liste apenas os filmes lançados depois de 2010\n",
        "df2 = pd.read_sql_query(\"\"\"\n",
        "SELECT * FROM filmes\n",
        "WHERE ano_lancamento > 2010;\n",
        "\"\"\", conn)\n",
        "display(df2)\n",
        "\n",
        "# 3. Liste todos os filmes em ordem alfabética de título\n",
        "df3 = pd.read_sql_query(\"\"\"\n",
        "SELECT * FROM filmes\n",
        "ORDER BY titulo ASC;\n",
        "\"\"\", conn)\n",
        "display(df3)\n",
        "\n",
        "# 4. Liste todos os filmes ordenados pelo ano de lançamento (mais recente primeiro)\n",
        "df4 = pd.read_sql_query(\"\"\"\n",
        "SELECT * FROM filmes\n",
        "ORDER BY ano_lancamento DESC;\n",
        "\"\"\", conn)\n",
        "display(df4)\n",
        "\n",
        "# 5. Liste todas as avaliações ordenadas por nota decrescente\n",
        "df5 = pd.read_sql_query(\"\"\"\n",
        "SELECT * FROM avaliacoes\n",
        "ORDER BY nota DESC;\n",
        "\"\"\", conn)\n",
        "display(df5)\n",
        "\n",
        "# 6. Selecione todas as avaliações com nota maior ou igual a 4\n",
        "df6 = pd.read_sql_query(\"\"\"\n",
        "SELECT * FROM avaliacoes\n",
        "WHERE nota >= 4;\n",
        "\"\"\", conn)\n",
        "display(df6)\n",
        "\n",
        "# 7. Selecione os comentários em que aparece as palavras 'bom' ou 'gostei'\n",
        "df7 = pd.read_sql_query(\"\"\"\n",
        "SELECT * FROM avaliacoes\n",
        "WHERE comentario LIKE '%bom%' OR comentario LIKE '%gostei%';\n",
        "\"\"\", conn)\n",
        "display(df7)\n",
        "\n",
        "# 8. Verifique quantos filmes existem na tabela para cada gênero\n",
        "df8 = pd.read_sql_query(\"\"\"\n",
        "SELECT genero, COUNT(*) AS total_genero\n",
        "FROM filmes\n",
        "GROUP BY genero;\n",
        "\"\"\", conn)\n",
        "display(df8)\n",
        "\n",
        "# 9. Calcule a média das notas por filme (agrupando pelo filme_id)\n",
        "df9 = pd.read_sql_query(\"\"\"\n",
        "SELECT filme_id, AVG(nota) AS media_nota\n",
        "FROM avaliacoes\n",
        "GROUP BY filme_id;\n",
        "\"\"\", conn)\n",
        "display(df9)\n",
        "\n",
        "# 10. Liste apenas os filmes com nota média maior que 4\n",
        "df10 = pd.read_sql_query(\"\"\"\n",
        "SELECT filme_id, AVG(nota) AS media_nota\n",
        "FROM avaliacoes\n",
        "GROUP BY filme_id\n",
        "HAVING AVG(nota) > 4;\n",
        "\"\"\", conn)\n",
        "display(df10)"
      ],
      "metadata": {
        "id": "OiGkYpgOHKXV"
      },
      "execution_count": null,
      "outputs": []
    },
    {
      "cell_type": "markdown",
      "source": [
        "### 6. Atualizando e removendo registros"
      ],
      "metadata": {
        "id": "zYkfHfr7eu5h"
      }
    },
    {
      "cell_type": "markdown",
      "source": [
        "a. Atualize a nota de uma avaliação de 3 para 4.\n",
        "\n",
        "b. Delete todas as avaliações com nota igual a 1."
      ],
      "metadata": {
        "id": "zGlNuEheex-X"
      }
    },
    {
      "cell_type": "code",
      "source": [
        "# Conferir a avaliação com id = 3 (se a nota foi atualizada para 4)\n",
        "df_check1 = pd.read_sql_query(\"\"\"\n",
        "SELECT * FROM avaliacoes\n",
        "WHERE id = 3;\n",
        "\"\"\", conn)\n",
        "display(df_check1)\n",
        "\n",
        "# Conferir se ainda existem avaliações com nota = 1 (deveria não trazer nada)\n",
        "df_check2 = pd.read_sql_query(\"\"\"\n",
        "SELECT * FROM avaliacoes\n",
        "WHERE nota = 1;\n",
        "\"\"\", conn)\n",
        "display(df_check2)"
      ],
      "metadata": {
        "id": "tqsYbIf4MDL8"
      },
      "execution_count": null,
      "outputs": []
    },
    {
      "cell_type": "markdown",
      "source": [
        "## Parte 2 - Prática em SQLite com Python"
      ],
      "metadata": {
        "id": "z7MZazsLe0r0"
      }
    },
    {
      "cell_type": "markdown",
      "source": [
        "Usando Python e o pacote sqlite3:\n",
        "\n",
        "a. Crie o banco de dados local `cinema.db` e adicione as tabelas filmes e avaliacoes com os campos definidos acima.\n",
        "\n",
        "b. Implemente as quatro operações CRUD para ambas tabelas, ou seja, insira, leia, atualize e remova registros diretamente pelo Python."
      ],
      "metadata": {
        "id": "kKDvlDhqe6Kn"
      }
    },
    {
      "cell_type": "code",
      "source": [
        "\"\"\"\n",
        "Aula 06 – SQLite + Python (sqlite3)\n",
        "Arquivo: aula06_sqlite_crud.py\n",
        "Objetivo:\n",
        "  a) Criar o banco local cinema.db e as tabelas filmes e avaliacoes\n",
        "  b) Implementar CRUD completo para ambas as tabelas\n",
        "\"\"\"\n",
        "\n",
        "import sqlite3\n",
        "from typing import List, Tuple, Optional\n",
        "\n",
        "DB_PATH = \"cinema.db\"   # no Colab pode usar: \"/content/cinema.db\"\n",
        "\n",
        "# ---------------------------\n",
        "# Conexão e criação de tabelas\n",
        "# ---------------------------\n",
        "def get_conn(db_path: str = DB_PATH) -> sqlite3.Connection:\n",
        "    conn = sqlite3.connect(db_path)\n",
        "    conn.execute(\"PRAGMA foreign_keys = ON;\")  # habilita FK no SQLite\n",
        "    return conn\n",
        "\n",
        "def create_tables(conn: sqlite3.Connection) -> None:\n",
        "    cur = conn.cursor()\n",
        "    cur.executescript(\"\"\"\n",
        "    DROP TABLE IF EXISTS avaliacoes;\n",
        "    DROP TABLE IF EXISTS filmes;\n",
        "\n",
        "    CREATE TABLE filmes (\n",
        "        id INTEGER PRIMARY KEY AUTOINCREMENT,\n",
        "        titulo TEXT NOT NULL,\n",
        "        genero TEXT NOT NULL,\n",
        "        ano_lancamento INTEGER\n",
        "    );\n",
        "\n",
        "    CREATE TABLE avaliacoes (\n",
        "        id INTEGER PRIMARY KEY AUTOINCREMENT,\n",
        "        filme_id INTEGER NOT NULL,\n",
        "        nota INTEGER NOT NULL CHECK (nota BETWEEN 1 AND 5),\n",
        "        comentario TEXT,\n",
        "        FOREIGN KEY (filme_id) REFERENCES filmes(id) ON DELETE CASCADE\n",
        "    );\n",
        "    \"\"\")\n",
        "    conn.commit()\n",
        "\n",
        "# ---------------------------\n",
        "# CRUD – FILMES\n",
        "# ---------------------------\n",
        "def add_filme(conn: sqlite3.Connection, titulo: str, genero: str, ano: Optional[int]) -> int:\n",
        "    \"\"\"CREATE: insere um filme e retorna o id gerado\"\"\"\n",
        "    cur = conn.cursor()\n",
        "    cur.execute(\n",
        "        \"INSERT INTO filmes (titulo, genero, ano_lancamento) VALUES (?, ?, ?)\",\n",
        "        (titulo, genero, ano),\n",
        "    )\n",
        "    conn.commit()\n",
        "    return cur.lastrowid\n",
        "\n",
        "def get_filmes(conn: sqlite3.Connection) -> List[Tuple]:\n",
        "    \"\"\"READ: retorna todos os filmes\"\"\"\n",
        "    return conn.execute(\"SELECT id, titulo, genero, ano_lancamento FROM filmes\").fetchall()\n",
        "\n",
        "def get_filme_by_id(conn: sqlite3.Connection, filme_id: int) -> Optional[Tuple]:\n",
        "    \"\"\"READ: retorna um filme pelo id\"\"\"\n",
        "    return conn.execute(\n",
        "        \"SELECT id, titulo, genero, ano_lancamento FROM filmes WHERE id = ?\",\n",
        "        (filme_id,),\n",
        "    ).fetchone()\n",
        "\n",
        "def update_filme(conn: sqlite3.Connection, filme_id: int, titulo: str, genero: str, ano: Optional[int]) -> int:\n",
        "    \"\"\"UPDATE: atualiza um filme; retorna número de linhas afetadas\"\"\"\n",
        "    cur = conn.cursor()\n",
        "    cur.execute(\n",
        "        \"UPDATE filmes SET titulo = ?, genero = ?, ano_lancamento = ? WHERE id = ?\",\n",
        "        (titulo, genero, ano, filme_id),\n",
        "    )\n",
        "    conn.commit()\n",
        "    return cur.rowcount\n",
        "\n",
        "def delete_filme(conn: sqlite3.Connection, filme_id: int) -> int:\n",
        "    \"\"\"DELETE: apaga um filme (e avaliações relacionadas por ON DELETE CASCADE)\"\"\"\n",
        "    cur = conn.cursor()\n",
        "    cur.execute(\"DELETE FROM filmes WHERE id = ?\", (filme_id,))\n",
        "    conn.commit()\n",
        "    return cur.rowcount\n",
        "\n",
        "# ---------------------------\n",
        "# CRUD – AVALIAÇÕES\n",
        "# ---------------------------\n",
        "def add_avaliacao(conn: sqlite3.Connection, filme_id: int, nota: int, comentario: Optional[str]) -> int:\n",
        "    \"\"\"CREATE: insere avaliação e retorna id gerado\"\"\"\n",
        "    cur = conn.cursor()\n",
        "    cur.execute(\n",
        "        \"INSERT INTO avaliacoes (filme_id, nota, comentario) VALUES (?, ?, ?)\",\n",
        "        (filme_id, nota, comentario),\n",
        "    )\n",
        "    conn.commit()\n",
        "    return cur.lastrowid\n",
        "\n",
        "def get_avaliacoes(conn: sqlite3.Connection) -> List[Tuple]:\n",
        "    \"\"\"READ: retorna todas as avaliações\"\"\"\n",
        "    return conn.execute(\"SELECT id, filme_id, nota, comentario FROM avaliacoes\").fetchall()\n",
        "\n",
        "def get_avaliacoes_por_filme(conn: sqlite3.Connection, filme_id: int) -> List[Tuple]:\n",
        "    \"\"\"READ: retorna avaliações de um filme\"\"\"\n",
        "    return conn.execute(\n",
        "        \"SELECT id, filme_id, nota, comentario FROM avaliacoes WHERE filme_id = ?\",\n",
        "        (filme_id,),\n",
        "    ).fetchall()\n",
        "\n",
        "def update_avaliacao(conn: sqlite3.Connection, avaliacao_id: int, nota: int, comentario: Optional[str]) -> int:\n",
        "    \"\"\"UPDATE: atualiza uma avaliação\"\"\"\n",
        "    cur = conn.cursor()\n",
        "    cur.execute(\n",
        "        \"UPDATE avaliacoes SET nota = ?, comentario = ? WHERE id = ?\",\n",
        "        (nota, comentario, avaliacao_id),\n",
        "    )\n",
        "    conn.commit()\n",
        "    return cur.rowcount\n",
        "\n",
        "def delete_avaliacao(conn: sqlite3.Connection, avaliacao_id: int) -> int:\n",
        "    \"\"\"DELETE: apaga uma avaliação\"\"\"\n",
        "    cur = conn.cursor()\n",
        "    cur.execute(\"DELETE FROM avaliacoes WHERE id = ?\", (avaliacao_id,))\n",
        "    conn.commit()\n",
        "    return cur.rowcount\n",
        "\n",
        "# ---------------------------\n",
        "# Consultas úteis (SELECT)\n",
        "# ---------------------------\n",
        "def filmes_por_genero(conn: sqlite3.Connection, genero: str) -> List[Tuple]:\n",
        "    return conn.execute(\n",
        "        \"SELECT id, titulo, genero, ano_lancamento FROM filmes WHERE genero = ?\",\n",
        "        (genero,),\n",
        "    ).fetchall()\n",
        "\n",
        "def filmes_depois_de(conn: sqlite3.Connection, ano: int) -> List[Tuple]:\n",
        "    return conn.execute(\n",
        "        \"SELECT id, titulo, genero, ano_lancamento FROM filmes WHERE ano_lancamento > ?\",\n",
        "        (ano,),\n",
        "    ).fetchall()\n",
        "\n",
        "def media_por_filme(conn: sqlite3.Connection) -> List[Tuple]:\n",
        "    return conn.execute(\n",
        "        \"SELECT filme_id, AVG(nota) AS media_nota FROM avaliacoes GROUP BY filme_id\"\n",
        "    ).fetchall()\n",
        "\n",
        "def media_maior_que(conn: sqlite3.Connection, limite: float) -> List[Tuple]:\n",
        "    return conn.execute(\n",
        "        \"SELECT filme_id, AVG(nota) AS media_nota FROM avaliacoes GROUP BY filme_id HAVING AVG(nota) > ?\",\n",
        "        (limite,),\n",
        "    ).fetchall()\n",
        "\n",
        "# ---------------------------\n",
        "# Demonstração (opcional)\n",
        "# ---------------------------\n",
        "if __name__ == \"__main__\":\n",
        "    conn = get_conn()\n",
        "    create_tables(conn)\n",
        "\n",
        "    # --- CREATE (inserir alguns filmes) ---\n",
        "    f1 = add_filme(conn, \"O Poderoso Chefão\", \"Drama\", 1972)\n",
        "    f2 = add_filme(conn, \"Matrix\", \"Ficção Científica\", 1999)\n",
        "    f3 = add_filme(conn, \"Shrek\", \"Animação\", 2001)\n",
        "\n",
        "    # --- CREATE (inserir avaliações) ---\n",
        "    a1 = add_avaliacao(conn, f1, 5, \"Clássico absoluto.\")\n",
        "    a2 = add_avaliacao(conn, f1, 4, \"Excelente, mas longo.\")\n",
        "    a3 = add_avaliacao(conn, f2, 5, \"Mind-blowing.\")\n",
        "    a4 = add_avaliacao(conn, f3, 4, \"Engraçado e fofo.\")\n",
        "\n",
        "    # --- READ ---\n",
        "    print(\"Filmes:\", get_filmes(conn))\n",
        "    print(\"Avaliações do filme 1:\", get_avaliacoes_por_filme(conn, f1))\n",
        "\n",
        "    # --- UPDATE ---\n",
        "    print(\"Atualizando nota da avaliação a4 para 5...\")\n",
        "    update_avaliacao(conn, a4, 5, \"Ainda melhor na revisão.\")\n",
        "\n",
        "    # --- DELETE ---\n",
        "    # Ex.: delete_avaliacao(conn, a2)\n",
        "    # Ex.: delete_filme(conn, f3)  # apaga o filme e suas avaliações (ON DELETE CASCADE)\n",
        "\n",
        "    # --- Consultas úteis ---\n",
        "    print(\"Drama:\", filmes_por_genero(conn, \"Drama\"))\n",
        "    print(\"Depois de 2000:\", filmes_depois_de(conn, 2000))\n",
        "    print(\"Média por filme:\", media_por_filme(conn))\n",
        "    print(\"Média > 4:\", media_maior_que(conn, 4))\n",
        "\n",
        "    conn.close()"
      ],
      "metadata": {
        "id": "0r_9rBJLepoj"
      },
      "execution_count": null,
      "outputs": []
    }
  ]
}