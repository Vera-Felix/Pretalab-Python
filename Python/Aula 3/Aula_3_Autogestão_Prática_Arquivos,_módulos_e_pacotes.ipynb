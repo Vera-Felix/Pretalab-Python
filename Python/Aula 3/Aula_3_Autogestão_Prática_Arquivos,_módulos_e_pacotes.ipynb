{
  "nbformat": 4,
  "nbformat_minor": 0,
  "metadata": {
    "colab": {
      "provenance": []
    },
    "kernelspec": {
      "name": "python3",
      "display_name": "Python 3"
    },
    "language_info": {
      "name": "python"
    }
  },
  "cells": [
    {
      "cell_type": "markdown",
      "source": [
        "# 📚 Aula Prática – Arquivos, Pacotes e Módulos"
      ],
      "metadata": {
        "id": "ZjfA_auiiuob"
      }
    },
    {
      "cell_type": "markdown",
      "source": [
        "## Tema: Arquivos, Módulos e Pacotes (os, random, faker, requests, BeautifulSoup)\n",
        "\n",
        "## Objetivo da aula: Criar, organizar, analisar e coletar informações em diferentes contextos com Python."
      ],
      "metadata": {
        "id": "YI0rdZaOpJgD"
      }
    },
    {
      "cell_type": "markdown",
      "source": [
        "ℹ️ Lembretes:\n",
        "\n",
        "- O sistema de arquivos do Colab é temporário. Se quiser salvar os arquivos, baixe-os para seu computador ou conecte seu Google Drive.\n",
        "\n",
        "- Utilize `%%writefile` para criar módulos\n",
        "\n",
        "- Use código Python para criar pastas e arquivos."
      ],
      "metadata": {
        "id": "omuz2q1XiwHM"
      }
    },
    {
      "cell_type": "markdown",
      "source": [
        "## Nível Básico – Aquecimento"
      ],
      "metadata": {
        "id": "x_raQVcRjExD"
      }
    },
    {
      "cell_type": "markdown",
      "source": [
        "### Exercício 1 – Cadastro de alunas (usando `faker` e `random`)\n",
        "\n",
        "- Imagine que você é responsável por organizar uma lista de alunas para um curso.\n",
        "\n",
        "- Use a biblioteca `faker` para gerar pelo menos 30 nomes de alunas.\n",
        "\n",
        "- Para cada aluna, crie também um número de matrícula aleatório (por exemplo, entre 1000 e 9999).\n",
        "\n",
        "- Salve os dados em um arquivo chamado alunas.txt, com o formato: `Nome - Matrícula`\n",
        "\n",
        "\n",
        "\n"
      ],
      "metadata": {
        "id": "kQhBJqnMphQX"
      }
    },
    {
      "cell_type": "code",
      "source": [
        "# ============================================================\n",
        "# PASSO 0: Instalar a biblioteca necessária\n",
        "# ============================================================\n",
        "!pip install faker\n",
        "\n",
        "# ============================================================\n",
        "# PASSO 1: Importar bibliotecas\n",
        "# ============================================================\n",
        "from faker import Faker  # gera nomes fictícios\n",
        "import random            # gera números aleatórios\n",
        "\n",
        "fake = Faker(\"pt_BR\")  # inicializa gerador de dados em português\n",
        "\n",
        "# ============================================================\n",
        "# PASSO 2: Gerar nomes fictícios\n",
        "# ============================================================\n",
        "alunas = []  # lista para armazenar os nomes\n",
        "\n",
        "for i in range(30):          # repete 30 vezes\n",
        "    nome = fake.name()       # cria um nome fictício\n",
        "    alunas.append(nome)      # adiciona na lista\n",
        "\n",
        "# ============================================================\n",
        "# PASSO 3: Criar matrícula para cada aluna\n",
        "# ============================================================\n",
        "cadastro = []  # lista para armazenar nome + matrícula\n",
        "\n",
        "for nome in alunas:\n",
        "    matricula = random.randint(1000, 9999)  # número aleatório de 4 dígitos\n",
        "    cadastro.append(f\"{nome} - {matricula}\")  # junta nome e matrícula\n",
        "\n",
        "# ============================================================\n",
        "# PASSO 4: Salvar no arquivo\n",
        "# ============================================================\n",
        "with open(\"alunas.txt\", \"w\", encoding=\"utf-8\") as f:\n",
        "    for linha in cadastro:\n",
        "        f.write(linha + \"\\n\")  # escreve cada cadastro em uma linha\n",
        "\n",
        "# ============================================================\n",
        "# PASSO 5: Ler e mostrar o arquivo\n",
        "# ============================================================\n",
        "with open(\"alunas.txt\", \"r\", encoding=\"utf-8\") as f:\n",
        "    conteudo = f.read()   # lê todo o conteúdo\n",
        "    print(conteudo)       # mostra na tela"
      ],
      "metadata": {
        "id": "2w88Qv9n9sgD"
      },
      "execution_count": null,
      "outputs": []
    },
    {
      "cell_type": "markdown",
      "source": [
        "### Exercício 2 – Analisando números de uma pesquisa (usando random)\n",
        "\n",
        "Você está ajudando em uma pesquisa que deseja coletar 200 respostas numéricas (valores entre 1 e 1000).\n",
        "\n",
        "1. Gere esses números aleatórios e salve-os em um arquivo numeros.txt.\n",
        "\n",
        "2. Escreva um programa que leia o arquivo e descubra: Qual foi a menor resposta registrada? Qual foi a maior resposta registrada?\n",
        "\n",
        "Esse tipo de análise é importante para entender extremos em pesquisas ou levantamentos de dados."
      ],
      "metadata": {
        "id": "3L50bq3zp7US"
      }
    },
    {
      "cell_type": "code",
      "source": [
        "import random  # biblioteca para gerar números aleatórios\n",
        "\n",
        "# ============================================================\n",
        "# PASSO 1: Gerar e salvar os números no arquivo\n",
        "# ============================================================\n",
        "with open(\"numeros.txt\", \"w\", encoding=\"utf-8\") as f:\n",
        "    for i in range(200):\n",
        "        numero = random.randint(1, 1000)   # gera número entre 1 e 1000\n",
        "        # str(numero) → converte o número inteiro em texto, porque f.write só aceita string\n",
        "        # + \"\\n\" → adiciona uma quebra de linha, para que cada número fique em uma linha do arquivo\n",
        "        f.write(str(numero) + \"\\n\")\n",
        "\n",
        "# ============================================================\n",
        "# PASSO 2: Ler e converter os números do arquivo\n",
        "# ============================================================\n",
        "with open(\"numeros.txt\", \"r\", encoding=\"utf-8\") as f:\n",
        "    # percorre cada linha do arquivo (for l in f)\n",
        "    # converte a linha em inteiro (int(l))\n",
        "    # monta uma lista com todos os números ([ ... ])\n",
        "    nums = [int(l) for l in f]\n",
        "\n",
        "# Então:\n",
        "# f = o arquivo numeros.txt aberto\n",
        "# for l in f = percorre cada linha do arquivo\n",
        "# l = cada linha individual (string)\n",
        "\n",
        "# ============================================================\n",
        "# PASSO 3: Analisar os dados\n",
        "# ============================================================\n",
        "menor = min(nums)  # encontra o menor valor\n",
        "maior = max(nums)  # encontra o maior valor\n",
        "\n",
        "# ============================================================\n",
        "# PASSO 4: Mostrar os resultados\n",
        "# ============================================================\n",
        "print(\"Menor número registrado:\", menor)\n",
        "print(\"Maior número registrado:\", maior)"
      ],
      "metadata": {
        "id": "KNIqncBRAMwy"
      },
      "execution_count": null,
      "outputs": []
    },
    {
      "cell_type": "code",
      "source": [
        "import random  # biblioteca para gerar números aleatórios\n",
        "\n",
        "# ============================================================\n",
        "# Exemplo 1: Sorteando entre 1 e 5\n",
        "# ============================================================\n",
        "print(\"Exemplo 1: números entre 1 e 5\")\n",
        "for i in range(10):  # repete 10 vezes\n",
        "    print(random.randint(1, 5))  # pode sair 1, 2, 3, 4 ou 5\n",
        "\n",
        "print(\"-\" * 40)\n",
        "\n",
        "# ============================================================\n",
        "# Exemplo 2: Sorteando entre 10 e 10 (sempre igual)\n",
        "# ============================================================\n",
        "print(\"Exemplo 2: número entre 10 e 10\")\n",
        "for i in range(5):  # repete 5 vezes\n",
        "    print(random.randint(10, 10))  # sempre vai sair 10\n",
        "\n",
        "print(\"-\" * 40)\n",
        "\n",
        "# ============================================================\n",
        "# Exemplo 3: Sorteando entre 50 e 60\n",
        "# ============================================================\n",
        "print(\"Exemplo 3: números entre 50 e 60\")\n",
        "for i in range(10):  # repete 10 vezes\n",
        "    print(random.randint(50, 60))  # pode sair qualquer número de 50 até 60\n"
      ],
      "metadata": {
        "id": "cPoCsfn9GhVC"
      },
      "execution_count": null,
      "outputs": []
    },
    {
      "cell_type": "markdown",
      "source": [
        "## Nível Intermediário – Reutilizando e organizando código"
      ],
      "metadata": {
        "id": "8xev1TqfqJ4l"
      }
    },
    {
      "cell_type": "markdown",
      "source": [
        "Aqui, o objetivo é não repetir código e aprender a organizar funções em módulos.\n",
        "\n",
        "### Exercício 3 – Frases motivacionais do ano (usando random)\n",
        "\n",
        "Uma empresa quer criar um sistema que sorteia uma frase motivacional por dia para seus funcionários.\n",
        "\n",
        "1. Gere o arquivo frases.txt, que contém 31 frases (uma para cada dia do mês).\n",
        "\n",
        "2. Escreva um programa que:\n",
        "\n",
        "a. Leia todas as frases do arquivo.\n",
        "\n",
        "b. Sorteie uma frase usando random.choice.\n",
        "\n",
        "c. Exiba a frase na tela.\n",
        "\n",
        "👉 Esse exercício mostra como reaproveitar grandes arquivos de texto em aplicações do dia a dia."
      ],
      "metadata": {
        "id": "_BlXz9o9qPML"
      }
    },
    {
      "cell_type": "code",
      "source": [
        "# ============================================================\n",
        "# PASSO 1: Criar o arquivo frases.txt\n",
        "# ============================================================\n",
        "\n",
        "# lista com 31 frases motivacionais (uma para cada dia do mês)\n",
        "frases = [\n",
        "    \"Acredite no seu potencial!\",\n",
        "    \"Cada dia é uma nova chance.\",\n",
        "    \"O esforço de hoje é o sucesso de amanhã.\",\n",
        "    \"Você é capaz de conquistar grandes coisas.\",\n",
        "    \"Persistência leva à vitória.\",\n",
        "    \"Confie no processo e siga em frente.\",\n",
        "    \"Pequenos passos constroem grandes jornadas.\",\n",
        "    \"Sua dedicação faz a diferença.\",\n",
        "    \"Nada é impossível quando acreditamos.\",\n",
        "    \"A disciplina supera a motivação.\",\n",
        "    \"Seu trabalho tem valor.\",\n",
        "    \"Sonhe grande, comece pequeno.\",\n",
        "    \"Não desista no primeiro obstáculo.\",\n",
        "    \"Aprender é crescer todos os dias.\",\n",
        "    \"Você é a sua melhor versão em construção.\",\n",
        "    \"Coragem é agir apesar do medo.\",\n",
        "    \"Seja constante, mesmo nos dias difíceis.\",\n",
        "    \"Transforme erros em aprendizado.\",\n",
        "    \"A vitória começa com a decisão de tentar.\",\n",
        "    \"Respeite seu tempo e siga firme.\",\n",
        "    \"Tenha orgulho do seu progresso.\",\n",
        "    \"Seja a inspiração que você procura.\",\n",
        "    \"Cada conquista começa com um passo.\",\n",
        "    \"Você está no caminho certo.\",\n",
        "    \"Foque no que você pode controlar.\",\n",
        "    \"O sucesso é feito de persistência.\",\n",
        "    \"Você tem força para continuar.\",\n",
        "    \"Não compare sua jornada com a dos outros.\",\n",
        "    \"A motivação vem da ação.\",\n",
        "    \"Seu esforço hoje vale a pena amanhã.\",\n",
        "    \"Acreditar em si é o primeiro passo.\"\n",
        "]\n",
        "\n",
        "# cria o arquivo frases.txt com todas as frases\n",
        "with open(\"frases.txt\", \"w\", encoding=\"utf-8\") as f:\n",
        "    for frase in frases:\n",
        "        # f.write só aceita strings\n",
        "        # frase é uma string, e \"\\n\" serve para quebrar a linha\n",
        "        # assim cada frase fica em uma linha separada no arquivo\n",
        "        f.write(frase + \"\\n\")\n",
        "\n",
        "# ============================================================\n",
        "# PASSO 2: Ler todas as frases do arquivo\n",
        "# ============================================================\n",
        "with open(\"frases.txt\", \"r\", encoding=\"utf-8\") as f:\n",
        "    # percorre cada linha do arquivo (for linha in f)\n",
        "    # linha.strip() → remove o \\n do final da frase\n",
        "    # [ ... for linha in f ] → cria uma lista com todas as frases\n",
        "    frases = [linha.strip() for linha in f]\n",
        "\n",
        "import random  # precisamos importar para usar random.choice\n",
        "\n",
        "# ============================================================\n",
        "# PASSO 3: Sortear e exibir uma frase\n",
        "# ============================================================\n",
        "\n",
        "# random.choice(lista) → escolhe aleatoriamente um item da lista\n",
        "frase_sorteada = random.choice(frases)\n",
        "\n",
        "# mostra a frase escolhida na tela\n",
        "print(\"Frase motivacional do dia:\")\n",
        "print(frase_sorteada)"
      ],
      "metadata": {
        "id": "KePZe-9GqMBt"
      },
      "execution_count": null,
      "outputs": []
    },
    {
      "cell_type": "markdown",
      "source": [
        "### Exercício 4 – Criando um módulo de utilidades para arquivos\n",
        "\n",
        "Agora que já temos vários arquivos (`alunas.txt`, `numeros.txt`, `frases.txt`), vamos criar um **módulo** arquivos.py para facilitar a manipulação de arquivos.\n",
        "\n",
        "1. Esse módulo deve conter as seguintes funções:\n",
        "\n",
        "- `contar_caracteres(nome_arquivo)` → devolve o número total de caracteres do arquivo.\n",
        "\n",
        "- `contar_palavras(nome_arquivo)` → devolve a quantidade total de palavras no arquivo.\n",
        "\n",
        "- `ler_conteudo(nome_arquivo, qtd_linhas)` → lê e devolve apenas as primeiras N linhas do arquivo (N é definido pelo usuário).\n",
        "\n",
        "2. Teste cada função do módulo com os arquivos criados (`alunas.txt`, `numeros.txt`, `frases.txt`).\n",
        "\n",
        "👉 Isso mostra como modularizar código ajuda a organizar programas maiores."
      ],
      "metadata": {
        "id": "lVZ1IK8Wq7IW"
      }
    },
    {
      "cell_type": "code",
      "source": [
        "# =============================================\n",
        "# Função: contar_caracteres\n",
        "# Objetivo:\n",
        "#   - Abrir um arquivo de texto\n",
        "#   - Contar quantos caracteres existem nele\n",
        "#   - Retornar esse total como número inteiro\n",
        "#\n",
        "# Observação:\n",
        "#   - \"Caracteres\" inclui letras, números, espaços,\n",
        "#     pontuações e quebras de linha.\n",
        "# =============================================\n",
        "\n",
        "def contar_caracteres(nome_arquivo):\n",
        "    # 1. Abre o arquivo no modo de leitura (\"r\")\n",
        "    #    encoding=\"utf-8\" é usado para suportar acentos e cedilhas.\n",
        "    with open(nome_arquivo, \"r\", encoding=\"utf-8\") as f:\n",
        "        # 2. f.read() lê TODO o conteúdo do arquivo como uma string única\n",
        "        conteudo = f.read()\n",
        "\n",
        "    # 3. len(conteudo) conta quantos caracteres existem nessa string\n",
        "    return len(conteudo)\n",
        "\n",
        "\n",
        "# =============================================\n",
        "# Testando a função\n",
        "# - Aqui chamamos a função passando o nome do arquivo\n",
        "# - O resultado é impresso no console\n",
        "# =============================================\n",
        "\n",
        "print(\"Total de caracteres em frases.txt:\", contar_caracteres(\"frases.txt\"))\n",
        "print(\"Total de caracteres em alunas.txt:\", contar_caracteres(\"alunas.txt\"))\n",
        "print(\"Total de caracteres em numeros.txt:\", contar_caracteres(\"numeros.txt\"))"
      ],
      "metadata": {
        "id": "YRzC43TmrYB4"
      },
      "execution_count": null,
      "outputs": []
    },
    {
      "cell_type": "code",
      "source": [
        "# =============================================\n",
        "# Função: ler_conteudo\n",
        "# Objetivo:\n",
        "#   - Abrir um arquivo de texto\n",
        "#   - Ler apenas as PRIMEIRAS N linhas\n",
        "#   - Retornar essas linhas como lista\n",
        "#\n",
        "# Observação:\n",
        "#   - Aqui usamos .readlines() que já pega todas\n",
        "#     as linhas do arquivo de uma vez.\n",
        "#   - Depois usamos [:qtd_linhas] para pegar só\n",
        "#     as primeiras N linhas.\n",
        "# =============================================\n",
        "\n",
        "def ler_conteudo(nome_arquivo, qtd_linhas):\n",
        "    # 1. Abre o arquivo no modo leitura\n",
        "    with open(nome_arquivo, \"r\", encoding=\"utf-8\") as f:\n",
        "        # 2. .readlines() devolve TODAS as linhas numa lista\n",
        "        linhas = f.readlines()\n",
        "\n",
        "    # 3. Pegamos só as N primeiras linhas com [:qtd_linhas]\n",
        "    #    e tiramos a quebra de linha \"\\n\" no final de cada uma\n",
        "    return [linha.rstrip(\"\\n\") for linha in linhas[:qtd_linhas]]\n",
        "\n",
        "\n",
        "# =============================================\n",
        "# Testando a função\n",
        "# - Aqui pedimos para mostrar só as 3 primeiras linhas\n",
        "# =============================================\n",
        "\n",
        "print(\"Primeiras linhas de frases.txt:\", ler_conteudo(\"frases.txt\", 1)) # mostra só a primeira linha\n",
        "print(\"Primeiras linhas de alunas.txt:\", ler_conteudo(\"alunas.txt\", 5)) # mostra as 5 primeiras linhas\n",
        "print(\"Primeiras linhas de numeros.txt:\", ler_conteudo(\"numeros.txt\", 10)) # mostra as 10 primeiras linhas"
      ],
      "metadata": {
        "id": "SsoojPTaKy77"
      },
      "execution_count": null,
      "outputs": []
    },
    {
      "cell_type": "code",
      "source": [],
      "metadata": {
        "id": "pIIqgjxrLXKA"
      },
      "execution_count": null,
      "outputs": []
    },
    {
      "cell_type": "markdown",
      "source": [
        "## Nível Avançado – Buscando informações na web\n",
        "\n",
        "### Exercício 5 – Criando um módulo coletor de notícias (usando requests + BeautifulSoup)\n",
        "\n",
        "Você foi convidado a desenvolver um coletor de manchetes para um portal de notícias.\n",
        "\n",
        "1. Crie um módulo chamado coletor.py com pelo menos 4 funções:\n",
        "\n",
        "- `coletar_noticias(url)` → acessa a página indicada com requests e usa BeautifulSoup para coletar o título e o texto da nóticia. Cria um arquivo para salvar a noticia. Adiciona o título da noticia em um arquivo `noticias.txt`.\n",
        "\n",
        "- `ler_titulos(nome_arquivo)` → lê os títulos salvos e devolve como lista.\n",
        "\n",
        "- `gerar_relatorio()` → lê o arquivo `noticias.txt`, cria um relatório com: número total de títulos coletados; quantidade de palavras por título.\n",
        "Salve relatório em `relatorio.txt`.\n",
        "\n",
        "👉 Você pode usar como exemplo para raspagem o site: https://quotes.toscrape.com\n",
        "\n",
        "👉 Esse exercício mostra como Python pode ser usado em aplicações reais de web scraping e análise de texto."
      ],
      "metadata": {
        "id": "g1tr4FYlrYjN"
      }
    },
    {
      "cell_type": "code",
      "source": [
        "# =============================================\n",
        "# coletor.py – versão simplificada\n",
        "# Exercício 5 – Coletor de manchetes\n",
        "#\n",
        "# Funções:\n",
        "#   1) coletar_noticias(url)\n",
        "#   2) ler_titulos()\n",
        "#   3) gerar_relatorio()\n",
        "#\n",
        "# Obs.: Aqui tudo é direto, sem funções extras para\n",
        "#       limpar texto ou criar nomes complexos.\n",
        "# =============================================\n",
        "\n",
        "import requests\n",
        "from bs4 import BeautifulSoup\n",
        "\n",
        "# ---------------------------------------------\n",
        "# 1) coletar_noticias(url)\n",
        "#   - Baixa a página\n",
        "#   - Pega o título (h1 ou <title>)\n",
        "#   - Pega os parágrafos <p> como texto\n",
        "#   - Salva notícia em um arquivo .txt simples\n",
        "#   - Acrescenta título em noticias.txt\n",
        "# ---------------------------------------------\n",
        "def coletar_noticias(url):\n",
        "    resp = requests.get(url)\n",
        "    soup = BeautifulSoup(resp.text, \"html.parser\")\n",
        "\n",
        "    # pega título (prioriza h1, senão usa <title>)\n",
        "    titulo = soup.find(\"h1\").get_text(strip=True) if soup.find(\"h1\") else soup.title.get_text(strip=True)\n",
        "\n",
        "    # pega todo o texto dos parágrafos\n",
        "    paragrafos = [p.get_text(strip=True) for p in soup.find_all(\"p\")]\n",
        "    texto = \" \".join(paragrafos) if paragrafos else \"Sem conteúdo.\"\n",
        "\n",
        "    # salva notícia completa em um arquivo\n",
        "    with open(\"noticia.txt\", \"w\", encoding=\"utf-8\") as f:\n",
        "        f.write(titulo + \"\\n\\n\" + texto)\n",
        "\n",
        "    # adiciona título em noticias.txt\n",
        "    with open(\"noticias.txt\", \"a\", encoding=\"utf-8\") as f:\n",
        "        f.write(titulo + \"\\n\")\n",
        "\n",
        "    print(\"Notícia coletada:\", titulo)\n",
        "\n",
        "\n",
        "# ---------------------------------------------\n",
        "# 2) ler_titulos()\n",
        "#   - Lê noticias.txt e devolve uma lista de títulos\n",
        "# ---------------------------------------------\n",
        "def ler_titulos(nome_arquivo=\"noticias.txt\"):\n",
        "    try:\n",
        "        with open(nome_arquivo, \"r\", encoding=\"utf-8\") as f:\n",
        "            return [linha.strip() for linha in f]\n",
        "    except FileNotFoundError:\n",
        "        return []\n",
        "\n",
        "\n",
        "# ---------------------------------------------\n",
        "# 3) gerar_relatorio()\n",
        "#   - Lê noticias.txt\n",
        "#   - Conta quantos títulos existem\n",
        "#   - Conta quantas palavras cada título tem\n",
        "#   - Salva tudo em relatorio.txt\n",
        "# ---------------------------------------------\n",
        "def gerar_relatorio():\n",
        "    titulos = ler_titulos()\n",
        "    total = len(titulos)\n",
        "\n",
        "    with open(\"relatorio.txt\", \"w\", encoding=\"utf-8\") as f:\n",
        "        f.write(f\"Total de títulos: {total}\\n\\n\")\n",
        "        for t in titulos:\n",
        "            f.write(f\"{t} ({len(t.split())} palavras)\\n\")\n",
        "\n",
        "    print(\"Relatório gerado em relatorio.txt\")\n",
        "\n",
        "\n",
        "# ---------------------------------------------\n",
        "# Teste rápido\n",
        "# ---------------------------------------------\n",
        "if __name__ == \"__main__\":\n",
        "    url = \"https://quotes.toscrape.com\"\n",
        "    coletar_noticias(url)\n",
        "    print(\"Títulos já salvos:\", ler_titulos())\n",
        "    gerar_relatorio()"
      ],
      "metadata": {
        "id": "3NEzSZtTt0nt",
        "colab": {
          "base_uri": "https://localhost:8080/"
        },
        "outputId": "2dd726bb-5053-4255-92ec-70a5d1fd9413"
      },
      "execution_count": 47,
      "outputs": [
        {
          "output_type": "stream",
          "name": "stdout",
          "text": [
            "Notícia coletada: Quotes to Scrape\n",
            "Títulos já salvos: ['Quotes to Scrape']\n",
            "Relatório gerado em relatorio.txt\n"
          ]
        }
      ]
    },
    {
      "cell_type": "code",
      "source": [
        "# =============================================\n",
        "# coletor_simplificado.py\n",
        "# Exercício 5 – versão mínima\n",
        "#\n",
        "# O que faz?\n",
        "#   1) Coleta título e texto de uma página\n",
        "#   2) Guarda título em noticias.txt\n",
        "#   3) Mostra relatório direto no console\n",
        "# =============================================\n",
        "\n",
        "import requests\n",
        "from bs4 import BeautifulSoup\n",
        "\n",
        "# ---------------------------------------------\n",
        "# Função: coletar_noticias\n",
        "#   - Pega título e texto de uma URL\n",
        "#   - Salva notícia em noticia.txt\n",
        "#   - Acrescenta título em noticias.txt\n",
        "# ---------------------------------------------\n",
        "def coletar_noticias(url):\n",
        "    resp = requests.get(url)\n",
        "    soup = BeautifulSoup(resp.text, \"html.parser\")\n",
        "\n",
        "    titulo = soup.find(\"h1\").get_text(strip=True) if soup.find(\"h1\") else soup.title.get_text(strip=True)\n",
        "    paragrafos = [p.get_text(strip=True) for p in soup.find_all(\"p\")]\n",
        "    texto = \" \".join(paragrafos) if paragrafos else \"Sem conteúdo.\"\n",
        "\n",
        "    with open(\"noticia.txt\", \"w\", encoding=\"utf-8\") as f:\n",
        "        f.write(titulo + \"\\n\\n\" + texto)\n",
        "\n",
        "    with open(\"noticias.txt\", \"a\", encoding=\"utf-8\") as f:\n",
        "        f.write(titulo + \"\\n\")\n",
        "\n",
        "    print(\"✅ Notícia coletada:\", titulo)\n",
        "\n",
        "\n",
        "# ---------------------------------------------\n",
        "# Função: ler_titulos\n",
        "#   - Retorna lista de títulos salvos\n",
        "# ---------------------------------------------\n",
        "def ler_titulos():\n",
        "    try:\n",
        "        with open(\"noticias.txt\", \"r\", encoding=\"utf-8\") as f:\n",
        "            return [linha.strip() for linha in f]\n",
        "    except FileNotFoundError:\n",
        "        return []\n",
        "\n",
        "\n",
        "# ---------------------------------------------\n",
        "# Teste rápido\n",
        "# ---------------------------------------------\n",
        "if __name__ == \"__main__\":\n",
        "    url = \"https://quotes.toscrape.com\"\n",
        "    coletar_noticias(url)\n",
        "\n",
        "    titulos = ler_titulos()\n",
        "    print(\"\\n📌 Títulos salvos até agora:\")\n",
        "    for i, t in enumerate(titulos, start=1):\n",
        "        print(f\"{i}. {t}\")\n",
        "\n",
        "    print(\"\\n📊 Resumo:\")\n",
        "    print(\"Total de títulos:\", len(titulos))\n",
        "    for t in titulos:\n",
        "        print(f\"- '{t}' ({len(t.split())} palavras)\")"
      ],
      "metadata": {
        "colab": {
          "base_uri": "https://localhost:8080/"
        },
        "id": "z_XtRtAUNWaZ",
        "outputId": "4314d05f-ffab-4e66-d250-3ceda6170b6d"
      },
      "execution_count": 48,
      "outputs": [
        {
          "output_type": "stream",
          "name": "stdout",
          "text": [
            "✅ Notícia coletada: Quotes to Scrape\n",
            "\n",
            "📌 Títulos salvos até agora:\n",
            "1. Quotes to Scrape\n",
            "2. Quotes to Scrape\n",
            "\n",
            "📊 Resumo:\n",
            "Total de títulos: 2\n",
            "- 'Quotes to Scrape' (3 palavras)\n",
            "- 'Quotes to Scrape' (3 palavras)\n"
          ]
        }
      ]
    }
  ]
}