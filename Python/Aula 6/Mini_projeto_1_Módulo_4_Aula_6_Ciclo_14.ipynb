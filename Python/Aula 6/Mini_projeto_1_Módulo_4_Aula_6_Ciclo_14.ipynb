{
  "nbformat": 4,
  "nbformat_minor": 0,
  "metadata": {
    "colab": {
      "provenance": []
    },
    "kernelspec": {
      "name": "python3",
      "display_name": "Python 3"
    },
    "language_info": {
      "name": "python"
    }
  },
  "cells": [
    {
      "cell_type": "markdown",
      "source": [
        "#Mini-projeto: Lidando com Bancos de Dados"
      ],
      "metadata": {
        "id": "WTV5Cp_BvR-r"
      }
    },
    {
      "cell_type": "markdown",
      "source": [
        "Nesta tarefa, você deverá desenvolver um mini-projeto em Python utilizando SQLite3, colocando em prática os conceitos de criação e manipulação de dados em um banco relacional.\n",
        "\n",
        "\n",
        "## Objetivo da atividade\n",
        "\n",
        "* Verificar se você compreende como:\n",
        "\n",
        "* Criar tabelas em SQLite;\n",
        "\n",
        "* Inserir dados em um banco de dados;\n",
        "\n",
        "* Consultar registros de diferentes formas;\n",
        "\n",
        "* Atualizar informações já cadastradas;\n",
        "\n",
        "* Excluir registros de uma tabela.\n",
        "\n",
        "## Formato e Data de Entrega\n",
        "\n",
        "**Você deve enviar o link para um Google Colab até o dia 28/09.**\n",
        "\n",
        "## Critérios de avaliação\n",
        "\n",
        "* Banco criado corretamente, com a estrutura definida.\n",
        "\n",
        "* Inserção correta de pelo menos 50 registros.\n",
        "\n",
        "* Consultas SQL funcionando.\n",
        "\n",
        "* Atualizações realizadas corretamente.\n",
        "\n",
        "* Exclusões funcionando sem erros.\n",
        "\n",
        "* Organização e clareza do código."
      ],
      "metadata": {
        "id": "XY-IUTsBvVlr"
      }
    },
    {
      "cell_type": "markdown",
      "source": [
        "## O que deve ser feito"
      ],
      "metadata": {
        "id": "T9azQsBIvYe1"
      }
    },
    {
      "cell_type": "markdown",
      "source": [
        "### 1. Criar a tabela\n",
        "\n",
        "* Nome: alunas.\n",
        "\n",
        "* Colunas obrigatórias:\n",
        "\n",
        "- id (inteiro, chave primária, autoincremento)\n",
        "\n",
        "- nome (texto, obrigatório)\n",
        "\n",
        "- email (texto, único, obrigatório)\n",
        "\n",
        "- data_nascimento (data, obrigatório)\n",
        "\n",
        "- data_cadastro (data/hora, com valor padrão atual)."
      ],
      "metadata": {
        "id": "nTN0Sdtewf-3"
      }
    },
    {
      "cell_type": "code",
      "source": [
        "# Importa a biblioteca sqlite3 (já vem junto com o Python)\n",
        "# Permitindo criar e manipular bancos de dados SQLite.\n",
        "import sqlite3\n",
        "\n",
        "# Abre (ou cria) uma conexão com o banco de dados chamado 'alunas.db'.\n",
        "# - Se o arquivo 'alunas.db' não existir na pasta atual, ele será criado automaticamente.\n",
        "# - Se já existir, apenas abre esse banco.\n",
        "# - A variável 'conn' vai representar essa conexão ativa.\n",
        "conn = sqlite3.connect('alunas.db')\n",
        "\n",
        "# Cria um objeto \"cursor\" a partir da conexão.\n",
        "# O cursor é quem executa os comandos SQL dentro do banco.\n",
        "cur = conn.cursor()"
      ],
      "metadata": {
        "id": "TH4GpKsyvyV1"
      },
      "execution_count": 1,
      "outputs": []
    },
    {
      "cell_type": "code",
      "source": [
        "# Cria a tabela 'alunas' (se ainda não existir)\n",
        "# Usamos IF NOT EXISTS para evitar erro caso a tabela já tenha sido criada antes.\n",
        "cur.execute(\"\"\"\n",
        "CREATE TABLE IF NOT EXISTS alunas (\n",
        "    id integer primary key autoincrement,\n",
        "    nome text not null,\n",
        "    email text unique not null,\n",
        "    data_nascimento date not null,\n",
        "    data_cadastro datetime default current_timestamp\n",
        "    );\n",
        "    \"\"\")\n",
        "\n",
        "# Salva (confirma) as alterações feitas no banco de dados\n",
        "conn.commit()"
      ],
      "metadata": {
        "id": "tRrsqFVKvIQ7"
      },
      "execution_count": 29,
      "outputs": []
    },
    {
      "cell_type": "code",
      "source": [
        "# Lista todas as tabelas que existem dentro do banco de dados atual\n",
        "cur.execute(\"SELECT name FROM sqlite_master WHERE type='table';\")\n",
        "\n",
        "# Mostra o resultado da consulta\n",
        "print(cur.fetchall())"
      ],
      "metadata": {
        "id": "9xudzh5mwfPo"
      },
      "execution_count": null,
      "outputs": []
    },
    {
      "cell_type": "markdown",
      "source": [
        "### 2. Inserir registros\n",
        "\n",
        "* Inserir pelo menos 50 alunas diferentes na tabela, preenchendo todos os campos obrigatórios."
      ],
      "metadata": {
        "id": "iMkomBb_vynv"
      }
    },
    {
      "cell_type": "markdown",
      "source": [
        "# Versão 1:\n",
        "\n",
        "Inserindo registros manualmente"
      ],
      "metadata": {
        "id": "C8c0MO0Z0ZEt"
      }
    },
    {
      "cell_type": "code",
      "source": [
        "# Inserindo registros na tabela alunas:\n",
        "\n",
        "cur.execute(\"\"\"\n",
        "INSERT INTO alunas (nome, email, data_nascimento) VALUES\n",
        "('Maria Souza', 'maria.souza@email.com', '2000-01-15'),\n",
        "('Ana Silva', 'ana.silva@email.com', '2000-03-22'),\n",
        "('João Santos', 'joao.santos@email.com', '2001-05-11'),\n",
        "('Carla Oliveira', 'carla.oliveira@email.com', '2001-07-29'),\n",
        "('Fernanda Costa', 'fernanda.costa@email.com', '2002-02-14'),\n",
        "('Juliana Rocha', 'juliana.rocha@email.com', '2002-09-07'),\n",
        "('Patrícia Lima', 'patricia.lima@email.com', '2003-04-19'),\n",
        "('Renata Martins', 'renata.martins@email.com', '2003-12-30'),\n",
        "('Camila Almeida', 'camila.almeida@email.com', '2004-06-10'),\n",
        "('Beatriz Ferreira', 'beatriz.ferreira@email.com', '2004-11-25'),\n",
        "('Larissa Ribeiro', 'larissa.ribeiro@email.com', '2005-08-13'),\n",
        "('Tatiane Mendes', 'tatiane.mendes@email.com', '2005-10-01'),\n",
        "('Vanessa Araujo', 'vanessa.araujo@email.com', '2006-01-09'),\n",
        "('Cláudia Barros', 'claudia.barros@email.com', '2006-07-17'),\n",
        "('Paula Gomes', 'paula.gomes@email.com', '2007-03-28'),\n",
        "('Sandra Nunes', 'sandra.nunes@email.com', '2007-11-21'),\n",
        "('Helena Duarte', 'helena.duarte@email.com', '2008-05-06'),\n",
        "('Gabriela Mello', 'gabriela.mello@email.com', '2008-12-14'),\n",
        "('Daniela Pinto', 'daniela.pinto@email.com', '2009-04-03'),\n",
        "('Isabela Moreira', 'isabela.moreira@email.com', '2009-09-19'),\n",
        "('Raquel Carvalho', 'raquel.carvalho@email.com', '2010-02-27'),\n",
        "('Aline Farias', 'aline.farias@email.com', '2010-08-12'),\n",
        "('Simone Prado', 'simone.prado@email.com', '2011-01-05'),\n",
        "('Débora Teixeira', 'debora.teixeira@email.com', '2011-06-23'),\n",
        "('Cíntia Ramos', 'cintia.ramos@email.com', '2012-03-15'),\n",
        "('Letícia Borges', 'leticia.borges@email.com', '2012-09-09'),\n",
        "('Priscila Tavares', 'priscila.tavares@email.com', '2013-05-18'),\n",
        "('Bianca Lopes', 'bianca.lopes@email.com', '2013-12-02'),\n",
        "('Monique Silva', 'monique.silva@email.com', '2014-04-07'),\n",
        "('Tatiana Moura', 'tatiana.moura@email.com', '2014-10-22'),\n",
        "('Viviane Castro', 'viviane.castro@email.com', '2015-01-11'),\n",
        "('Elaine Pires', 'elaine.pires@email.com', '2015-07-30'),\n",
        "('Rafaela Cardoso', 'rafaela.cardoso@email.com', '2016-02-19'),\n",
        "('Nathalia Monteiro', 'nathalia.monteiro@email.com', '2016-11-08'),\n",
        "('Caroline Macedo', 'caroline.macedo@email.com', '2017-06-25'),\n",
        "('Mariana Freitas', 'mariana.freitas@email.com', '2017-12-13'),\n",
        "('Andreia Duarte', 'andreia.duarte@email.com', '2018-03-29'),\n",
        "('Luciana Correia', 'luciana.correia@email.com', '2018-08-21'),\n",
        "('Tatiane Rios', 'tatiane.rios@email.com', '2019-04-17'),\n",
        "('Fernanda Figueiredo', 'fernanda.figueiredo@email.com', '2019-09-28'),\n",
        "('Clara Barbosa', 'clara.barbosa@email.com', '2020-01-09'),\n",
        "('Sofia Mendes', 'sofia.mendes@email.com', '2020-07-18'),\n",
        "('Melissa Dias', 'melissa.dias@email.com', '2021-02-11'),\n",
        "('Laura Lima', 'laura.lima@email.com', '2021-09-06'),\n",
        "('Alice Fernandes', 'alice.fernandes@email.com', '2022-05-14'),\n",
        "('Marta Sales', 'marta.sales@email.com', '2022-12-20'),\n",
        "('Jéssica Moura', 'jessica.moura@email.com', '2023-04-25'),\n",
        "('Tatiane Gomes', 'tatiane.gomes@email.com', '2023-10-15'),\n",
        "('Carolina Nogueira', 'carolina.nogueira@email.com', '2024-03-12'),\n",
        "('Amanda Ribeiro', 'amanda.ribeiro@email.com', '2025-05-20');\n",
        "\"\"\")\n",
        "\n",
        "# Salva a inserção no banco:\n",
        "conn.commit()\n",
        "\n",
        "# Conferindo:\n",
        "cur.execute(\"SELECT * FROM alunas;\")\n",
        "print(cur.fetchall())"
      ],
      "metadata": {
        "id": "F-WUwpLnv1u9"
      },
      "execution_count": null,
      "outputs": []
    },
    {
      "cell_type": "markdown",
      "source": [
        "# Versão 2:\n",
        "\n",
        "Usando Faker para gerar registros automaticamente.  \n",
        "⚠️ Só exemplo para estudos futuros.  "
      ],
      "metadata": {
        "id": "duo1w45i2Ivj"
      }
    },
    {
      "cell_type": "code",
      "source": [
        "# Este comando instala a biblioteca \"faker\" no ambiente do Colab.\n",
        "# Ele deve ser usado apenas uma vez (ou sempre que o ambiente for reiniciado),\n",
        "# porque o Colab não mantém pacotes extras instalados entre sessões.\n",
        "# O ponto de exclamação (!) indica que é um comando de terminal (shell),\n",
        "# não um comando Python puro.\n",
        "\n",
        "!pip install faker"
      ],
      "metadata": {
        "id": "5o-xr_yR2NcI"
      },
      "execution_count": null,
      "outputs": []
    },
    {
      "cell_type": "code",
      "source": [
        "# Importa a classe Faker, que permite gerar dados falsos realistas\n",
        "# (nomes, emails, datas etc.)\n",
        "from faker import Faker\n",
        "\n",
        "# Importa a biblioteca random, usada para gerar números aleatórios\n",
        "# (ex.: escolher valores de forma randômica de uma lista).\n",
        "import random\n",
        "\n",
        "# Importa datetime (datas e horas) e timedelta (intervalos de tempo).\n",
        "# Com eles, se pode manipular datas, somar ou subtrair dias, etc.\n",
        "from datetime import datetime, timedelta\n",
        "\n",
        "# Cria um gerador de dados do Faker configurado para o Brasil.\n",
        "# Isso garante que os nomes, endereços e formatos de data sigam o padrão brasileiro.\n",
        "fake = Faker('pt_BR')"
      ],
      "metadata": {
        "id": "zNYrJXBG2bz6"
      },
      "execution_count": 7,
      "outputs": []
    },
    {
      "cell_type": "code",
      "source": [
        "# Gera um primeiro nome feminino\n",
        "# O parâmetro \"_female\" garante que o faker só traga nomes de mulheres.\n",
        "nome = fake.first_name_female()\n",
        "\n",
        "# Gera um sobrenome\n",
        "# Pode ser combinado com o primeiro nome para formar o nome completo.\n",
        "sobrenome = fake.last_name()\n",
        "\n",
        "# Junta o nome e o sobrenome para formar o nome completo da aluna\n",
        "nome_completo = nome + \" \" + sobrenome\n",
        "\n",
        "# Cria um email baseado no nome (convertendo para minúsculas e trocando espaço por ponto).\n",
        "# Isso garante que o email tenha relação com o nome da aluna.\n",
        "email = f\"{nome_completo.lower().replace(' ', '.')}@email.com\"\n",
        "\n",
        "# Gera uma data de nascimento aleatória entre 18 e 40 anos.\n",
        "# O resultado é uma data completa, que depois formatamos no padrão YYYY-MM-DD.\n",
        "data_nascimento = fake.date_of_birth(minimum_age=18, maximum_age=40).strftime(\"%Y-%m-%d\")\n",
        "\n",
        "# Exibe os dados gerados para a aluna\n",
        "print(\"Nome:\", nome_completo)\n",
        "print(\"Email:\", email)\n",
        "print(\"Data de Nascimento:\", data_nascimento)"
      ],
      "metadata": {
        "id": "TrbfKwVs3ePc"
      },
      "execution_count": null,
      "outputs": []
    },
    {
      "cell_type": "markdown",
      "source": [
        "### 3. Consultar registros\n",
        "\n",
        "* Listar todas as alunas cadastradas com SELECT * FROM alunas.\n",
        "\n",
        "* Consultar apenas alunas nascidas após o ano 2000.\n",
        "\n",
        "* Consultar alunas filtrando pelo nome ou email (usando WHERE)."
      ],
      "metadata": {
        "id": "RCNX2Ubfv13y"
      }
    },
    {
      "cell_type": "code",
      "source": [
        "# Listar todas as alunas cadastradas com SELECT * FROM alunas.\n",
        "\n",
        "cur.execute(\"Select * from alunas;\")\n",
        "print(cur.fetchall())"
      ],
      "metadata": {
        "id": "XMwxAmOuv4CW"
      },
      "execution_count": null,
      "outputs": []
    },
    {
      "cell_type": "code",
      "source": [
        "# Consultar apenas alunas nascidas após o ano 2000.\n",
        "\n",
        "cur.execute(\"Select * from alunas where data_nascimento > '2000-01-01';\")\n",
        "print(cur.fetchall())"
      ],
      "metadata": {
        "id": "OzZCax3S5qwy"
      },
      "execution_count": null,
      "outputs": []
    },
    {
      "cell_type": "code",
      "source": [
        "# Consultar alunas filtrando pelo nome (usando WHERE)\n",
        "cur.execute(\"Select nome from alunas where nome like '%maria%';\")\n",
        "print(cur.fetchall())\n",
        "\n",
        "# Consultar alunas filtrando pelo email (usando WHERE)\n",
        "cur.execute(\"Select email from alunas where email like '%maria%';\")\n",
        "print(cur.fetchall())\n",
        "\n",
        "# Consultar alunas filtrando pelo nome ou email (usando WHERE)\n",
        "cur.execute (\"Select * from alunas where nome like '%maria%' or email like '%maria%';\")\n",
        "print(cur.fetchall())"
      ],
      "metadata": {
        "id": "cCnYLd136Byl"
      },
      "execution_count": null,
      "outputs": []
    },
    {
      "cell_type": "markdown",
      "source": [
        "#### 4. Atualizar registros\n",
        "\n",
        "* Alterar o email de pelo menos uma aluna.\n",
        "\n",
        "* Atualizar o nome de uma aluna existente.\n",
        "\n",
        "* Corrigir a data de nascimento de pelo menos uma aluna."
      ],
      "metadata": {
        "id": "1Z5P6zfrv4IE"
      }
    },
    {
      "cell_type": "code",
      "source": [
        "# Alterar o email de pelo menos uma aluna.\n",
        "\n",
        "cur.execute(\"Update alunas set email = 'maria.souza.novo@email.com' where nome = 'Maria Souza';\")\n",
        "conn.commit()\n",
        "\n",
        "cur.execute(\"Select * from alunas where nome = 'Maria Souza';\")\n",
        "print(cur.fetchall())"
      ],
      "metadata": {
        "id": "tt1afyeev4bo"
      },
      "execution_count": null,
      "outputs": []
    },
    {
      "cell_type": "code",
      "source": [
        "# Atualizar o nome de uma aluna existente.\n",
        "\n",
        "cur.execute(\"Update alunas set nome = 'Maria Souza Nova' where nome = 'Maria Souza';\")\n",
        "conn.commit()\n",
        "\n",
        "cur.execute(\"SELECT * FROM alunas WHERE nome = 'Maria Souza Nova';\")\n",
        "print(cur.fetchall())"
      ],
      "metadata": {
        "id": "oYHuqUvl-Hca"
      },
      "execution_count": null,
      "outputs": []
    },
    {
      "cell_type": "code",
      "source": [
        "# Corrigir a data de nascimento de pelo menos uma aluna\n",
        "\n",
        "cur.execute(\"Select id, nome, data_nascimento from alunas where nome = 'Maria Souza Nova';\")\n",
        "print(cur.fetchall())\n",
        "\n",
        "cur.execute(\"Update alunas set data_nascimento = '1989-01-01' where nome = 'Maria Souza Nova';\")\n",
        "conn.commit()\n",
        "\n",
        "cur.execute(\"Select id, nome, data_nascimento from alunas where nome = 'Maria Souza Nova';\")\n",
        "print(cur.fetchall())"
      ],
      "metadata": {
        "id": "4qRSC6StDI80"
      },
      "execution_count": null,
      "outputs": []
    },
    {
      "cell_type": "markdown",
      "source": [
        "### 5. Remover registros\n",
        "\n",
        "* Excluir pelo menos uma aluna da tabela utilizando DELETE.\n",
        "\n",
        "* Excluir todas as alunas que tenham data de nascimento anterior a 1990."
      ],
      "metadata": {
        "id": "4e3hKcuLv7BO"
      }
    },
    {
      "cell_type": "code",
      "source": [
        "# Excluir pelo menos uma aluna da tabela utilizando DELETE.\n",
        "\n",
        "cur.execute(\"Select * from alunas where nome = 'Ana Silva';\")\n",
        "print(cur.fetchall())\n",
        "\n",
        "cur.execute(\"Delete from alunas where nome= 'Ana Silva';\")\n",
        "conn.commit()\n",
        "\n",
        "cur.execute(\"Select * from alunas where nome = 'Ana Silva';\")\n",
        "print(cur.fetchall())"
      ],
      "metadata": {
        "id": "xH8PFS9CvUkM"
      },
      "execution_count": null,
      "outputs": []
    },
    {
      "cell_type": "code",
      "source": [
        "# Excluir todas as alunas que tenham data de nascimento anterior a 1990\n",
        "\n",
        "cur.execute(\"Select * from alunas where data_nascimento < '1990-01-01';\")\n",
        "print(cur.fetchall())\n",
        "\n",
        "cur.execute(\"Delete from alunas where data_nascimento < '1990-01-01';\")\n",
        "conn.commit()\n",
        "\n",
        "cur.execute(\"Select * from alunas where data_nascimento < '1990-01-01';\")\n",
        "print(cur.fetchall())"
      ],
      "metadata": {
        "id": "FTfuVBujGlGc"
      },
      "execution_count": null,
      "outputs": []
    }
  ]
}