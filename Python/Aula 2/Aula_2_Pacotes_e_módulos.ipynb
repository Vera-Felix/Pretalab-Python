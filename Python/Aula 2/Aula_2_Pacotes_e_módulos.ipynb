{
  "nbformat": 4,
  "nbformat_minor": 0,
  "metadata": {
    "colab": {
      "provenance": []
    },
    "kernelspec": {
      "name": "python3",
      "display_name": "Python 3"
    },
    "language_info": {
      "name": "python"
    }
  },
  "cells": [
    {
      "cell_type": "markdown",
      "source": [
        "# Módulos e Pacotes em Python"
      ],
      "metadata": {
        "id": "nab9RWjOFIyj"
      }
    },
    {
      "cell_type": "markdown",
      "source": [
        "## Por que módulos e pacotes?\n",
        "Reaproveitar código acelera o desenvolvimento e evita \"reinventar a roda\".\n",
        "\n",
        "Um **módulo** é um arquivo `.py` com definições (funções, classes, variáveis).\n",
        "\n",
        "Um **pacote** é uma pasta com módulos (geralmente contém um `__init__.py`).\n",
        "\n",
        "**Importar** significa \"trazer\" nomes de outro módulo para usar aqui."
      ],
      "metadata": {
        "id": "fF7ZxP3fFT4b"
      }
    },
    {
      "cell_type": "markdown",
      "source": [
        "## Biblioteca padrão\n",
        "Python vem com muitos módulos úteis já como padrão, alguns exemplos são:\n",
        "- `math`: funções matemáticas\n",
        "- `random`: aleatoriedade\n",
        "- `os` / `pathlib`: arquivos e diretórios\n",
        "- `datetime`: datas e horários"
      ],
      "metadata": {
        "id": "COTAUqsbGJA-"
      }
    },
    {
      "cell_type": "markdown",
      "source": [
        "## Sintaxe de import\n",
        "Para usar um módulo utilizamos a palavra `import`:\n",
        "\n",
        "- `import modulo`\n",
        "- `import modulo as apelido`\n",
        "- `from modulo import nome1, nome2`\n",
        "- `from modulo import *` (pode causar conflitos e não é uma boa prática)"
      ],
      "metadata": {
        "id": "FpuLCljyF3qx"
      }
    },
    {
      "cell_type": "code",
      "source": [
        "# Importa o módulo math inteiro, que contém várias funções matemáticas\n",
        "import math\n",
        "\n",
        "# Importa o mesmo módulo math, mas dando a ele o apelido \"m\"\n",
        "import math as m\n",
        "\n",
        "# Importa apenas duas funções/constantes específicas do módulo math:\n",
        "# sqrt (raiz quadrada) e pi (constante de π)\n",
        "from math import sqrt, pi\n",
        "\n",
        "# Agora começam os testes de uso:\n",
        "\n",
        "# Acessa a constante pi através do módulo math\n",
        "print(\"math.pi:\", math.pi)\n",
        "\n",
        "# Acessa a constante e (número de Euler) usando o apelido \"m\"\n",
        "print(\"m.e:\", m.e)\n",
        "\n",
        "# Usa diretamente a função sqrt importada (não precisa escrever math.sqrt)\n",
        "print(\"sqrt(16):\", sqrt(16))\n",
        "\n",
        "# Usa diretamente a constante pi importada (não precisa escrever math.pi)\n",
        "print(\"pi:\", pi)"
      ],
      "metadata": {
        "id": "2kztv0GICm2J"
      },
      "execution_count": null,
      "outputs": []
    },
    {
      "cell_type": "code",
      "source": [
        "# Importa o módulo random, que serve para gerar números aleatórios\n",
        "import random\n",
        "\n",
        "# Gera um número aleatório de ponto flutuante entre 0 (inclusivo) e 1 (exclusivo)\n",
        "print(\"Número aleatório [0,1):\", random.random())\n",
        "\n",
        "# Criando uma lista vazia para guardar números\n",
        "numeros = []\n",
        "\n",
        "# Gerando um número inteiro aleatório entre 1 e 10 e adicionando na lista\n",
        "numeros.append(random.randint(1, 10))\n",
        "\n",
        "# Mostrando a lista com o número adicionado\n",
        "print(\"Lista com número aleatório:\", numeros)"
      ],
      "metadata": {
        "id": "iHd9udVZFKNO"
      },
      "execution_count": null,
      "outputs": []
    },
    {
      "cell_type": "code",
      "source": [
        "# Importa o módulo os, que fornece funções para interagir com o sistema operacional\n",
        "import os\n",
        "\n",
        "# Mostra o diretório atual de trabalho (onde o script está sendo executado)\n",
        "print(\"Diretório atual:\", os.getcwd())"
      ],
      "metadata": {
        "id": "K6UAnvb3GaE1"
      },
      "execution_count": null,
      "outputs": []
    },
    {
      "cell_type": "code",
      "source": [
        "# Importa o módulo datetime, mas dando o apelido \"dt\"\n",
        "import datetime as dt\n",
        "\n",
        "# Mostra a data de hoje (apenas ano, mês e dia)\n",
        "print(\"Hoje é:\", dt.date.today())"
      ],
      "metadata": {
        "id": "mybsrk5Tcxjg"
      },
      "execution_count": null,
      "outputs": []
    },
    {
      "cell_type": "markdown",
      "source": [
        "### Exercício 1 — Biblioteca padrão\n",
        "1. Utilizando a biblioteca padrão de geracão de números aleatórios do Python, gere **5 números aleatórios** entre 1 e 100 e salve em uma lista.\n",
        "\n",
        "2. Descubra qual foi o maior e o menor número gerado.\n",
        "\n",
        "### Funções úteis:\n",
        "- `max(lista)` → retorna o maior valor.\n",
        "\n",
        "- `min(lista)` → retorna o menor valor.\n",
        "\n",
        "- `sum(lista)` → soma os valores (ótimo se quiser calcular média).\n",
        "\n",
        "- `len(lista)` → quantidade de elementos."
      ],
      "metadata": {
        "id": "XP11SklGGkHj"
      }
    },
    {
      "cell_type": "code",
      "source": [
        "# Importa o módulo random, usado para gerar números aleatórios\n",
        "import random\n",
        "\n",
        "# Cria uma lista vazia que vai armazenar os números sorteados\n",
        "numeros = []\n",
        "\n",
        "# Gera 5 números inteiros aleatórios entre 1 e 100\n",
        "# O loop for repete 5 vezes\n",
        "for sorteio in range(5):\n",
        "    # .append() adiciona cada número sorteado ao final da lista \"numeros\"\n",
        "    # Sem o append, a lista continuaria vazia\n",
        "    numeros.append(random.randint(1, 100))\n",
        "\n",
        "# Exibe todos os números sorteados (lista completa)\n",
        "print(\"Números gerados:\", numeros)\n",
        "\n",
        "# Usa a função max() para descobrir o maior número da lista\n",
        "print(\"Maior número:\", max(numeros))\n",
        "\n",
        "# Usa a função min() para descobrir o menor número da lista\n",
        "print(\"Menor número:\", min(numeros))\n",
        "\n",
        "print(\"Tamanho da lista:\", len(numeros))"
      ],
      "metadata": {
        "id": "CpBu5e_aGknC"
      },
      "execution_count": null,
      "outputs": []
    },
    {
      "cell_type": "markdown",
      "source": [
        "## Criando seu próprio módulo\n",
        "Um módulo é apenas um arquivo `.py`. No Colab, podemos criá-lo com `%%writefile`.\n"
      ],
      "metadata": {
        "id": "K6NbWgnNGwXp"
      }
    },
    {
      "cell_type": "code",
      "source": [
        "# Define uma função para calcular a área de um círculo\n",
        "# Fórmula: π * r²\n",
        "# Aqui usamos uma aproximação de π (3.1415)\n",
        "def area_circulo(r):\n",
        "    return 3.1415 * (r ** 2)\n",
        "\n",
        "# Define uma função para calcular a área de um retângulo\n",
        "# Fórmula: base * altura\n",
        "def area_retangulo(l, a):\n",
        "    return l * a\n",
        "\n",
        "# Define uma função que recebe um nome e retorna uma mensagem de saudação\n",
        "# O f-string permite inserir o valor da variável 'nome' dentro da string\n",
        "def saudacao(nome):\n",
        "    return f\"Olá, {nome}! Bem-vinda à aula de módulos e pacotes.\"\n",
        "\n",
        "print(area_circulo(10))       # Chama a função com r = 10\n",
        "print(area_retangulo(5, 3))   # Chama a função com l = 5 e a = 3\n",
        "print(saudacao(\"Vera\"))       # Chama a função com o nome \"Vera\""
      ],
      "metadata": {
        "id": "DVYo0eVTG01M"
      },
      "execution_count": null,
      "outputs": []
    },
    {
      "cell_type": "code",
      "source": [
        "# Módulo de utilidades para a aula (exemplo).\n",
        "# Contém funções matemáticas simples e uma função de saudação.\n",
        "\n",
        "def area_circulo(r):\n",
        "#Calcula a área de um círculo dado o raio r.\n",
        "    return 3.1415 * (r ** 2)\n",
        "\n",
        "def area_retangulo(l, a):\n",
        "#Calcula a área de um retângulo (largura x altura).\n",
        "    return l * a\n",
        "\n",
        "def saudacao(nome):\n",
        "# Retorna uma mensagem de boas-vindas personalizada.\n",
        "    return f\"Olá, {nome}! Bem-vinda à aula de módulos e pacotes.\""
      ],
      "metadata": {
        "id": "X9pWK95UG6v9"
      },
      "execution_count": 36,
      "outputs": []
    },
    {
      "cell_type": "code",
      "source": [
        "# O comando mágico \"%%writefile\" é do Jupyter/Colab\n",
        "# Ele cria (ou sobrescreve) um arquivo chamado \"utilidades.py\" com o conteúdo abaixo\n",
        "%%writefile utilidades.py\n",
        "\n",
        "# Função que calcula a área de um círculo (π * r²)\n",
        "def area_circulo(r):\n",
        "    return 3.1415 * (r ** 2)\n",
        "\n",
        "# Função que calcula a área de um retângulo (largura * altura)\n",
        "def area_retangulo(l, a):\n",
        "    return l * a\n",
        "\n",
        "# Função que retorna uma mensagem de boas-vindas personalizada\n",
        "def saudacao(nome):\n",
        "    return f\"Olá, {nome}! Bem-vinda à aula de módulos e pacotes.\""
      ],
      "metadata": {
        "colab": {
          "base_uri": "https://localhost:8080/"
        },
        "id": "b-zD-T5Xtv4T",
        "outputId": "0cb6436a-dec6-4ab5-f0d7-33085270c914"
      },
      "execution_count": 37,
      "outputs": [
        {
          "output_type": "stream",
          "name": "stdout",
          "text": [
            "Overwriting utilidades.py\n"
          ]
        }
      ]
    },
    {
      "cell_type": "code",
      "source": [
        "# Importa as funções definidas dentro de utilidades.py\n",
        "from utilidades import area_circulo, area_retangulo, saudacao\n",
        "\n",
        "# Usa a função area_circulo passando raio = 3\n",
        "print(area_circulo(3))\n",
        "# Saída esperada: 28.2735\n",
        "\n",
        "# Usa a função area_retangulo passando largura = 5 e altura = 2\n",
        "print(area_retangulo(5, 2))\n",
        "# Saída esperada: 10\n",
        "\n",
        "# Usa a função saudacao passando o nome \"Vera\"\n",
        "print(saudacao(\"Vera\"))\n",
        "# Saída esperada: Olá, Vera! Bem-vinda à aula de módulos e pacotes."
      ],
      "metadata": {
        "id": "gj0hxwnlt_jD"
      },
      "execution_count": null,
      "outputs": []
    },
    {
      "cell_type": "code",
      "source": [
        "# Este comando cria (ou sobrescreve) o arquivo utilidades.py\n",
        "%%writefile utilidades.py\n",
        "\n",
        "# Módulo de utilidades para a aula (exemplo).\n",
        "# Contém funções matemáticas simples (área e perímetro) e uma função de saudação.\n",
        "\n",
        "# Calcula a área de um círculo (π * r²)\n",
        "def area_circulo(r):\n",
        "    return 3.1415 * (r ** 2)\n",
        "\n",
        "# Calcula a área de um retângulo (largura * altura)\n",
        "def area_retangulo(l, a):\n",
        "    return l * a\n",
        "\n",
        "# Calcula o perímetro de um retângulo (2 * (largura + altura))\n",
        "def perimetro_retangulo(l, a):\n",
        "    return 2 * (l + a)\n",
        "\n",
        "# Calcula a circunferência de um círculo (2 * π * r)\n",
        "def circunferencia(r):\n",
        "    return 2 * 3.1415 * r\n",
        "\n",
        "# Retorna uma mensagem de boas-vindas personalizada\n",
        "def saudacao(nome):\n",
        "    return f\"Olá, {nome}! Bem-vinda à aula de módulos e pacotes.\""
      ],
      "metadata": {
        "id": "CEw2Qs33vGZ2"
      },
      "execution_count": null,
      "outputs": []
    },
    {
      "cell_type": "code",
      "source": [
        "# Este comando cria (ou sobrescreve) o arquivo geometria.py\n",
        "%%writefile geometria.py\n",
        "\n",
        "# Módulo de funções geométricas\n",
        "\n",
        "# Calcula a circunferência de um círculo (2 * π * r)\n",
        "def circunferencia(r):\n",
        "    return 2 * 3.1415 * r"
      ],
      "metadata": {
        "id": "4rihGWFCwYBC"
      },
      "execution_count": null,
      "outputs": []
    },
    {
      "cell_type": "code",
      "source": [
        "# Importa a função circunferencia do módulo geometria\n",
        "from geometria import circunferencia\n",
        "\n",
        "# Chamando a função\n",
        "print(\"Circunferência de raio 3:\", circunferencia(3))  # Saída: 18.849"
      ],
      "metadata": {
        "id": "NEcQ5uQMwa6h"
      },
      "execution_count": null,
      "outputs": []
    },
    {
      "cell_type": "code",
      "source": [
        "# Este comando cria (ou sobrescreve) o arquivo formas_basicas.py\n",
        "%%writefile formas_basicas.py\n",
        "\n",
        "# Módulo com funções para formas geométricas básicas\n",
        "\n",
        "# Calcula a área de um quadrado (lado²)\n",
        "def area_quadrado(lado):\n",
        "    return lado ** 2\n",
        "\n",
        "# Calcula o perímetro de um quadrado (4 * lado)\n",
        "def perimetro_quadrado(lado):\n",
        "    return 4 * lado"
      ],
      "metadata": {
        "id": "CGQpAaaQwo6j"
      },
      "execution_count": null,
      "outputs": []
    },
    {
      "cell_type": "code",
      "source": [
        "# Este comando cria (ou sobrescreve) o arquivo circulo.py\n",
        "%%writefile circulo.py\n",
        "\n",
        "# Módulo com funções relacionadas ao círculo\n",
        "\n",
        "# Calcula a área de um círculo (π * r²)\n",
        "def area_circulo(r):\n",
        "    return 3.1415 * (r ** 2)\n",
        "\n",
        "# Calcula a circunferência de um círculo (2 * π * r)\n",
        "def circunferencia(r):\n",
        "    return 2 * 3.1415 * r"
      ],
      "metadata": {
        "id": "MizMDv7Ewtqa"
      },
      "execution_count": null,
      "outputs": []
    },
    {
      "cell_type": "code",
      "source": [
        "# Importando funções específicas de cada módulo\n",
        "from formas_basicas import area_quadrado, perimetro_quadrado\n",
        "from circulo import area_circulo, circunferencia\n",
        "\n",
        "# Chamando as funções\n",
        "print(\"Área do quadrado de lado 4:\", area_quadrado(4)) # Saída: 16\n",
        "print(\"Perímetro do quadrado de lado 4:\", perimetro_quadrado(4)) # Saída: 16\n",
        "\n",
        "print(\"Área do círculo de raio 3:\", area_circulo(3)) # Saída: 28.2735\n",
        "print(\"Circunferência de raio 3:\", circunferencia(3)) # Saída: 18.849"
      ],
      "metadata": {
        "id": "oJYHYqsEwyGS"
      },
      "execution_count": null,
      "outputs": []
    },
    {
      "cell_type": "markdown",
      "source": [
        "### Exercício 2 — Seu módulo\n",
        "1. Crie um módulo `calculadora.py` com as funções:\n",
        "- area_retangulo(l, a) → retorna a área de um retângulo de lados l e a.\n",
        "\n",
        "- perimetro_retangulo(l, a) → retorna o perímetro de um retângulo de lados l e a.\n",
        "\n",
        "- area_circulo(r) → retorna a área de um círculo de raio r.\n",
        "\n",
        "- circunferencia(r) → retorna o comprimento da circunferência de raio r.\n",
        "\n",
        "- volume_cubo(l) → retorna o volume de um cubo de lado l.\n",
        "\n",
        "2. Importe o módulo e **teste** as funções.\n",
        "\n",
        "👉 Dica: use math.pi quando precisar de π."
      ],
      "metadata": {
        "id": "_--BkIEzHXNu"
      }
    },
    {
      "cell_type": "code",
      "source": [
        "# O comando mágico %%writefile (usado no Jupyter/Colab)\n",
        "# cria ou sobrescreve um arquivo chamado calculadora.py\n",
        "# e salva nele todo o código que vier abaixo.\n",
        "%%writefile calculadora.py\n",
        "\n",
        "# Importa o módulo math da biblioteca padrão do Python\n",
        "# Ele contém funções e constantes matemáticas, como math.pi (valor de π).\n",
        "import math\n",
        "\n",
        "# Calcula a área de um retângulo (l * a)\n",
        "def area_retangulo(l, a):\n",
        "    return l * a\n",
        "\n",
        "# Calcula o perímetro de um retângulo (2 * (l + a))\n",
        "def perimetro_retangulo(l, a):\n",
        "    return 2 * (l + a)\n",
        "\n",
        "# Calcula a área de um círculo (π * r²)\n",
        "def area_circulo(r):\n",
        "    return math.pi * (r ** 2)\n",
        "\n",
        "# Calcula a circunferência de um círculo (2 * π * r)\n",
        "def circunferencia(r):\n",
        "    return 2 * math.pi * r\n",
        "\n",
        "# Calcula o volume de um cubo (lado³)\n",
        "def volume_cubo(l):\n",
        "    return l ** 3"
      ],
      "metadata": {
        "id": "C-1i7GApHY99"
      },
      "execution_count": null,
      "outputs": []
    },
    {
      "cell_type": "code",
      "source": [
        "from calculadora import (\n",
        "    area_retangulo,\n",
        "    perimetro_retangulo,\n",
        "    area_circulo,\n",
        "    circunferencia,\n",
        "    volume_cubo,\n",
        ")\n",
        "\n",
        "print(\"Área do retângulo 5x2:\", area_retangulo(5, 2))\n",
        "print(\"Perímetro do retângulo 5x2:\", perimetro_retangulo(5, 2))\n",
        "print(\"Área do círculo de raio 3:\", area_circulo(3))\n",
        "print(\"Circunferência de raio 3:\", circunferencia(3))\n",
        "print(\"Volume do cubo de lado 3:\", volume_cubo(3))"
      ],
      "metadata": {
        "id": "ZV_Kvf5JyrNH"
      },
      "execution_count": null,
      "outputs": []
    },
    {
      "cell_type": "markdown",
      "source": [
        "### Boas práticas\n",
        "- Nomeie módulos com **minúsculas** (ex.: `utilidades.py`).\n",
        "- Evite `from X import *` — seja explícito.\n",
        "- Agrupe funções relacionadas;\n",
        "- Use `requirements.txt` (ou seção de dependências) em projetos reais.\n",
        "- Ao editar um módulo no Colab, use `importlib.reload(modulo)` após `%%writefile`."
      ],
      "metadata": {
        "id": "88xf9bejHpWY"
      }
    },
    {
      "cell_type": "markdown",
      "source": [
        "# E se eu quiser usar uma biblioteca que não vem por padrão no Python, o que faço?"
      ],
      "metadata": {
        "id": "-XqtiachfuwQ"
      }
    },
    {
      "cell_type": "markdown",
      "source": [
        "## Pacotes externos (PyPI) e `pip`\n",
        "Além da biblioteca padrão, podemos instalar pacotes feitos pela comunidade.\n",
        "No Colab, use `pip` diretamente numa célula:"
      ],
      "metadata": {
        "id": "p0HbUaSsHklw"
      }
    },
    {
      "cell_type": "markdown",
      "source": [
        "## Pacote `emoji`\n",
        "\n",
        "O pacote [`emoji`](https://pypi.org/project/emoji/) permite trabalhar com emojis no Python."
      ],
      "metadata": {
        "id": "LtqVX_3DgMyq"
      }
    },
    {
      "cell_type": "code",
      "source": [
        "# Este comando imprime um texto na tela.\n",
        "# Dentro da string foram colocados \"códigos de emoji\" no estilo :nome_do_emoji:\n",
        "# Aqui usamos :snake: (cobra) e :rocket: (foguete).\n",
        "# Sem o pacote emoji, eles aparecem apenas como texto \":snake:\" e \":rocket:\".\n",
        "# Com o pacote emoji + função emoji.emojize(), esses códigos são convertidos em emojis reais 🐍🚀.\n",
        "print(\"Python é incrível :snake: :rocket:\")"
      ],
      "metadata": {
        "id": "Qa4uAzyfgSjL"
      },
      "execution_count": null,
      "outputs": []
    },
    {
      "cell_type": "code",
      "source": [
        "# O \"!\" indica que este comando deve ser executado no terminal (shell)\n",
        "# mesmo estando dentro do Jupyter Notebook ou Google Colab.\n",
        "# \"pip\" é o gerenciador de pacotes do Python (Python Package Installer).\n",
        "# \"install emoji\" diz ao pip para instalar o pacote chamado \"emoji\"\n",
        "# a partir do repositório oficial PyPI (Python Package Index).\n",
        "!pip install emoji"
      ],
      "metadata": {
        "id": "4p_-TuQvQhDt"
      },
      "execution_count": null,
      "outputs": []
    },
    {
      "cell_type": "markdown",
      "source": [],
      "metadata": {
        "id": "qc4mxlwnztnb"
      }
    },
    {
      "cell_type": "code",
      "source": [
        "# Importa apenas a função emojize do pacote emoji.\n",
        "# A função emojize converte códigos de emoji no formato :nome: para o emoji real.\n",
        "from emoji import emojize\n",
        "\n",
        "# Exibe a frase com os códigos de emoji convertidos.\n",
        "# :snake: -> 🐍\n",
        "# :rocket: -> 🚀\n",
        "print(emojize(\"Python é incrível :snake: :rocket:\"))"
      ],
      "metadata": {
        "id": "Fj5gRUgogH8A"
      },
      "execution_count": null,
      "outputs": []
    },
    {
      "cell_type": "markdown",
      "source": [
        "## 📊 Pacote `matplotlib`\n",
        "\n",
        "O pacote [`matplotlib`](https://matplotlib.org/) é muito usado para gerar gráficos em Python.\n",
        "\n",
        "No Colab ele já vem instalado, mas vamos simular a instalação para fins didáticos."
      ],
      "metadata": {
        "id": "OcvLSpieghTY"
      }
    },
    {
      "cell_type": "markdown",
      "source": [
        "## Partes de uma figura no matplotlib\n",
        "Tutorais oficiais: https://matplotlib.org/stable/tutorials/index\n",
        "\n",
        "Veja a [documentação](https://matplotlib.org/stable/tutorials/introductory/usage.html#sphx-glr-tutorials-introductory-usage-py)."
      ],
      "metadata": {
        "id": "VqRXh_WRiWoO"
      }
    },
    {
      "cell_type": "markdown",
      "source": [
        "![matplotlib_figure_axes_axis (4).png](data:image/png;base64,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)"
      ],
      "metadata": {
        "id": "QcG3oHDXiZrh"
      }
    },
    {
      "cell_type": "code",
      "source": [
        "# Usando o pacote matplotlib para criar um gráfico simples\n",
        "import matplotlib.pyplot as plt   # \"plt\" é um apelido comum para facilitar a escrita\n",
        "\n",
        "# Dados do gráfico (listas de valores)\n",
        "x = [1, 2, 3, 4]      # Valores do eixo X\n",
        "y = [10, 20, 25, 30]  # Valores correspondentes do eixo Y\n",
        "\n",
        "# Cria o gráfico de linha (plotando os pontos de x contra y)\n",
        "# marker=\"o\" desenha bolinhas nos pontos\n",
        "plt.plot(x, y, marker=\"o\")\n",
        "\n",
        "# Adiciona título ao gráfico\n",
        "plt.title(\"Exemplo rápido com Matplotlib\")\n",
        "\n",
        "# Nomeia os eixos\n",
        "plt.xlabel(\"Eixo X\")   # Nome do eixo horizontal\n",
        "plt.ylabel(\"Eixo Y\")   # Nome do eixo vertical\n",
        "\n",
        "# Exibe o gráfico na tela\n",
        "plt.show()"
      ],
      "metadata": {
        "id": "Yp32iuS1gfCH"
      },
      "execution_count": null,
      "outputs": []
    },
    {
      "cell_type": "code",
      "source": [
        "# Importa a função YouTubeVideo do módulo IPython.display.\n",
        "# Esse módulo permite exibir elementos multimídia (vídeos, imagens, áudio, HTML, etc.)\n",
        "# dentro de ambientes interativos como Jupyter Notebook e Google Colab.\n",
        "from IPython.display import YouTubeVideo\n",
        "\n",
        "# Cria um objeto que representa o vídeo do YouTube com o ID fornecido.\n",
        "# Aqui o ID 'iSpi3rKdoLQ' corresponde a um vídeo específico no YouTube.\n",
        "YouTubeVideo('iSpi3rKdoLQ')"
      ],
      "metadata": {
        "id": "l8OMITW6iRU7"
      },
      "execution_count": null,
      "outputs": []
    },
    {
      "cell_type": "markdown",
      "source": [
        "### Exercício 3 — Usando pacotes externos no Colab\n",
        "\n",
        "1. Instale o pacote faker com o comando: `!pip install faker`\n",
        "\n",
        "2. Importe o pacote no notebook: `from faker import Faker`\n",
        "\n",
        "3. Crie um objeto `fake = Faker()`.\n",
        "\n",
        "4. Gere 5 nomes falsos e 5 e-mails falsos com `fake.name()` e `fake.email()`.\n",
        "\n",
        "5. Exiba os resultados."
      ],
      "metadata": {
        "id": "FqaqvaWSgspO"
      }
    },
    {
      "cell_type": "code",
      "source": [
        "# Instala o pacote faker no ambiente (Colab/Jupyter).\n",
        "# O faker serve para gerar dados falsos (nomes, e-mails, endereços etc.) muito usados em testes.\n",
        "!pip install faker\n",
        "\n",
        "# Importa a classe Faker do pacote faker\n",
        "from faker import Faker\n",
        "\n",
        "# Cria um objeto fake que será usado para gerar os dados falsos\n",
        "fake = Faker()\n",
        "\n",
        "# Gera um nome falso (não mostra nada porque não usamos print)\n",
        "fake.name()\n",
        "\n",
        "# Gera um e-mail falso (também não aparece sem print)\n",
        "fake.email()\n",
        "\n",
        "# Agora sim, exibindo os resultados na tela:\n",
        "print(fake.name())   # Exibe um nome falso\n",
        "print(fake.email())  # Exibe um e-mail falso"
      ],
      "metadata": {
        "id": "_m-eDxnDhJ-y"
      },
      "execution_count": null,
      "outputs": []
    },
    {
      "cell_type": "markdown",
      "source": [
        "## Conclusão\n",
        "- Usamos `!pip install` para instalar pacotes externos no Colab;\n",
        "- Importamos e utilizamos dois pacotes: `emoji` e `matplotlib`;\n",
        "- Existem **milhares de pacotes disponíveis** no [PyPI](https://pypi.org/) que podem ser explorados em projetos futuros.\n",
        "\n",
        "✨ Assim como fizemos aqui, podemos instalar qualquer pacote necessário para análise de dados, visualização, automação e muito mais!"
      ],
      "metadata": {
        "id": "OGgEEIwrgpwU"
      }
    },
    {
      "cell_type": "code",
      "source": [
        "# Instala o pacote faker (apenas 1 vez no ambiente do Colab)\n",
        "!pip install faker\n",
        "\n",
        "# Importa a classe Faker do pacote faker\n",
        "from faker import Faker\n",
        "\n",
        "# Cria o objeto Faker\n",
        "fake = Faker()\n",
        "\n",
        "# Gera e exibe 5 nomes falsos\n",
        "print(\"Nomes falsos:\")\n",
        "for nome in range(5): # repete 5 vezes\n",
        "    print(\"-\", fake.name()) # gera e imprime um nome falso\n",
        "\n",
        "# Gera e exibe 5 e-mails falsos\n",
        "print(\"\\nE-mails falsos:\")\n",
        "for email in range(5): # repete 5 vezes\n",
        "    print(\"-\", fake.email()) # gera e imprime um e-mail falso"
      ],
      "metadata": {
        "id": "Ljg3QMiQhYfq"
      },
      "execution_count": null,
      "outputs": []
    },
    {
      "cell_type": "markdown",
      "source": [
        "# Beautiful Soup\n",
        "\n",
        "Como funciona:\n",
        "\n",
        "1. Quando você acessa um site, o conteúdo vem em HTML.\n",
        "\n",
        "2. O Beautiful Soup ajuda a navegar nesse HTML e pegar apenas o que interessa (títulos, links, parágrafos, tabelas etc.).\n",
        "\n",
        "3. Normalmente ele é usado junto com o requests (que baixa a página da internet)."
      ],
      "metadata": {
        "id": "qiwVS2z034oA"
      }
    },
    {
      "cell_type": "code",
      "source": [
        "# Instala as bibliotecas necessárias (BeautifulSoup e requests)\n",
        "!pip install beautifulsoup4 requests\n",
        "\n",
        "# Importa a classe BeautifulSoup do pacote bs4\n",
        "from bs4 import BeautifulSoup\n",
        "\n",
        "# Importa o módulo requests, usado para fazer requisições HTTP\n",
        "import requests\n",
        "\n",
        "# URL da página que queremos acessar\n",
        "url = \"https://www.python.org/\"\n",
        "\n",
        "# Faz a requisição HTTP para a página e pega o conteúdo (HTML)\n",
        "resposta = requests.get(url)\n",
        "\n",
        "# Cria o objeto BeautifulSoup para analisar o HTML\n",
        "# O segundo argumento \"html.parser\" indica o analisador de HTML a ser usado\n",
        "soup = BeautifulSoup(resposta.text, \"html.parser\")\n",
        "\n",
        "# Pega o título da página (a tag <title>)\n",
        "print(\"Título da página:\", soup.title.string)\n",
        "\n",
        "# Pega todos os links (tags <a>) e mostra apenas os 5 primeiros\n",
        "for link in soup.find_all(\"a\")[:5]:\n",
        "    print(\"Link encontrado:\", link.get(\"href\"))"
      ],
      "metadata": {
        "id": "ALE2TzZf3sEd"
      },
      "execution_count": null,
      "outputs": []
    },
    {
      "cell_type": "code",
      "source": [
        "# soup.find() → encontra a primeira ocorrência de uma tag\n",
        "from bs4 import BeautifulSoup\n",
        "import requests\n",
        "\n",
        "url = \"https://www.python.org/\"\n",
        "resposta = requests.get(url)\n",
        "soup = BeautifulSoup(resposta.text, \"html.parser\")\n",
        "\n",
        "# Encontra a primeira tag <h2> da página\n",
        "primeiro_h2 = soup.find(\"h2\")\n",
        "print(\"Primeiro <h2> da página:\", primeiro_h2.text)"
      ],
      "metadata": {
        "id": "wHrQ2P6P5Jx4"
      },
      "execution_count": null,
      "outputs": []
    },
    {
      "cell_type": "code",
      "source": [
        "# soup.find_all() → encontra todas as ocorrências de uma tag\n",
        "# Encontra todas as tags <a> (links) da página\n",
        "links = soup.find_all(\"a\")\n",
        "\n",
        "# Mostra os 5 primeiros links encontrados\n",
        "print(\"\\nAlguns links encontrados:\")\n",
        "for link in links[:5]:\n",
        "    print(\"-\", link.get(\"href\"))"
      ],
      "metadata": {
        "id": "97qbt0195ewg"
      },
      "execution_count": null,
      "outputs": []
    },
    {
      "cell_type": "code",
      "source": [
        "# soup.get_text() → extrai todo o texto do HTML, sem as tags\n",
        "# Extrai todo o texto da página (sem HTML)\n",
        "texto = soup.get_text()\n",
        "\n",
        "# Mostra os primeiros 300 caracteres do texto\n",
        "print(\"\\nTexto da página (trecho):\")\n",
        "print(texto[:300], \"...\")"
      ],
      "metadata": {
        "id": "yAAwUK5f5n3D"
      },
      "execution_count": null,
      "outputs": []
    }
  ]
}