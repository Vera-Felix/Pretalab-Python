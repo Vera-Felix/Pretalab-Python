{
  "nbformat": 4,
  "nbformat_minor": 0,
  "metadata": {
    "colab": {
      "provenance": []
    },
    "kernelspec": {
      "name": "python3",
      "display_name": "Python 3"
    },
    "language_info": {
      "name": "python"
    }
  },
  "cells": [
    {
      "cell_type": "markdown",
      "source": [
        "# Prática CRUD com SQLite3 em Python"
      ],
      "metadata": {
        "id": "x9zjxv6ziyeW"
      }
    },
    {
      "cell_type": "code",
      "source": [
        "# Importa o módulo da BIBLIOTECA PADRÃO do Python para trabalhar com bancos SQLite.\n",
        "# Não precisa instalar com pip. Com ele você cria/abre um arquivo .db,\n",
        "# executa SQL (CREATE/INSERT/SELECT/UPDATE/DELETE) e faz commit/close.\n",
        "import sqlite3 as sq"
      ],
      "metadata": {
        "id": "Z3GLYxLfj3up"
      },
      "execution_count": null,
      "outputs": []
    },
    {
      "cell_type": "markdown",
      "source": [
        "## 1. Criando conexão com o banco SQLite"
      ],
      "metadata": {
        "id": "r9M_ilttjyNB"
      }
    },
    {
      "cell_type": "code",
      "source": [
        "# Abre (ou cria, se não existir) o arquivo de banco de dados \"usuarios.db\"\n",
        "# O arquivo será salvo no diretório atual do notebook/script.\n",
        "# A variável 'con' é o objeto de CONEXÃO: controla transações (commit/rollback) e o acesso ao BD.\n",
        "con = sqlite3.connect(\"usuarios.db\")\n",
        "\n",
        "# A partir da conexão, criamos um CURSOR.\n",
        "# O cursor é quem envia comandos SQL (CREATE TABLE, INSERT, SELECT, UPDATE, DELETE) ao banco.\n",
        "cur = con.cursor()"
      ],
      "metadata": {
        "id": "q-zG9iR3jb3n"
      },
      "execution_count": null,
      "outputs": []
    },
    {
      "cell_type": "markdown",
      "source": [
        "## 2. Criando tabelas"
      ],
      "metadata": {
        "id": "M6HWEJvNj04I"
      }
    },
    {
      "cell_type": "code",
      "source": [
        "# ---- DDL: criação das tabelas (idempotente) ----\n",
        "cur.executescript(\"\"\"\n",
        "CREATE TABLE IF NOT EXISTS usuarios (\n",
        "    id INTEGER PRIMARY KEY AUTOINCREMENT,\n",
        "    nome TEXT NOT NULL,\n",
        "    email TEXT UNIQUE NOT NULL,\n",
        "    senha TEXT NOT NULL,\n",
        "    data_criacao TIMESTAMP DEFAULT CURRENT_TIMESTAMP\n",
        ");\n",
        "\n",
        "CREATE TABLE IF NOT EXISTS produtos (\n",
        "    id INTEGER PRIMARY KEY AUTOINCREMENT,\n",
        "    nome TEXT NOT NULL,\n",
        "    preco REAL NOT NULL,\n",
        "    estoque INTEGER NOT NULL\n",
        ");\n",
        "\n",
        "CREATE TABLE IF NOT EXISTS pedidos (\n",
        "    id INTEGER PRIMARY KEY AUTOINCREMENT,\n",
        "    usuario_id INTEGER NOT NULL,\n",
        "    data_pedido TIMESTAMP DEFAULT CURRENT_TIMESTAMP,\n",
        "    status TEXT DEFAULT 'Pendente',\n",
        "    FOREIGN KEY (usuario_id) REFERENCES usuarios(id)\n",
        ");\n",
        "\n",
        "CREATE TABLE IF NOT EXISTS itens_pedido (\n",
        "    id INTEGER PRIMARY KEY AUTOINCREMENT,\n",
        "    pedido_id INTEGER NOT NULL,\n",
        "    produto_id INTEGER NOT NULL,\n",
        "    quantidade INTEGER NOT NULL,\n",
        "    preco_unitario REAL NOT NULL,\n",
        "    FOREIGN KEY (pedido_id) REFERENCES pedidos(id),\n",
        "    FOREIGN KEY (produto_id) REFERENCES produtos(id)\n",
        ");\n",
        "\"\"\")\n",
        "con.commit()\n",
        "\n",
        "# ---- Índice único para produtos.nome (para UPSERT por nome) ----\n",
        "try:\n",
        "    cur.execute(\"CREATE UNIQUE INDEX IF NOT EXISTS idx_produtos_nome ON produtos(nome);\")\n",
        "    con.commit()\n",
        "except Exception:\n",
        "    # Se já existirem duplicatas, remove mantendo a primeira\n",
        "    cur.execute(\"\"\"\n",
        "        DELETE FROM produtos\n",
        "        WHERE rowid NOT IN (\n",
        "            SELECT MIN(rowid) FROM produtos GROUP BY nome\n",
        "        );\n",
        "    \"\"\")\n",
        "    con.commit()\n",
        "    cur.execute(\"CREATE UNIQUE INDEX IF NOT EXISTS idx_produtos_nome ON produtos(nome);\")\n",
        "    con.commit()\n",
        "\n",
        "# ---- SEED: dados base ----\n",
        "usuarios = [\n",
        "    (\"João Silva\",  \"joao@email.com\",   \"123456\"),\n",
        "    (\"Maria Souza\", \"maria@email.com\",  \"abcdef\"),\n",
        "    (\"Carlos Pereira\", \"carlos@email.com\", \"senha123\"),\n",
        "]\n",
        "produtos = [\n",
        "    (\"Camiseta\",        29.99, 100),\n",
        "    (\"Calça Jeans\",     79.99,  50),\n",
        "    (\"Tênis Esportivo\",129.99,  30),\n",
        "]\n",
        "\n",
        "# ---- UPSERT: insere ou atualiza se já existir (idempotente) ----\n",
        "cur.executemany(\"\"\"\n",
        "    INSERT INTO usuarios (nome, email, senha)\n",
        "    VALUES (?, ?, ?)\n",
        "    ON CONFLICT(email) DO UPDATE SET\n",
        "        nome  = excluded.nome,\n",
        "        senha = excluded.senha;\n",
        "\"\"\", usuarios)\n",
        "\n",
        "cur.executemany(\"\"\"\n",
        "    INSERT INTO produtos (nome, preco, estoque)\n",
        "    VALUES (?, ?, ?)\n",
        "    ON CONFLICT(nome) DO UPDATE SET\n",
        "        preco   = excluded.preco,\n",
        "        estoque = excluded.estoque;\n",
        "\"\"\", produtos)\n",
        "con.commit()\n",
        "\n",
        "# ---- READ: listar dados ----\n",
        "print(\"Usuários:\")\n",
        "for row in cur.execute(\"SELECT id, nome, email, datetime(data_criacao) FROM usuarios ORDER BY id\"):\n",
        "    print(row)\n",
        "\n",
        "print(\"\\nProdutos:\")\n",
        "for row in cur.execute(\"SELECT id, nome, preco, estoque FROM produtos ORDER BY id\"):\n",
        "    print(row)\n",
        "\n",
        "# ---- UPDATE seguro: baixa 1 do estoque do produto id=1 se houver estoque ----\n",
        "qtd = 1\n",
        "produto_id = 1\n",
        "cur.execute(\n",
        "    \"UPDATE produtos SET estoque = estoque - ? WHERE id = ? AND estoque >= ?\",\n",
        "    (qtd, produto_id, qtd)\n",
        ")\n",
        "if cur.rowcount == 0:\n",
        "    print(\"\\n[UPDATE] Sem estoque suficiente ou produto inexistente para id=1.\")\n",
        "else:\n",
        "    con.commit()\n",
        "    print(\"\\n[UPDATE] Estoque do produto id=1 atualizado com sucesso.\")\n",
        "\n",
        "# Mostrar produtos após o UPDATE\n",
        "print(\"\\nProdutos (após UPDATE):\")\n",
        "for row in cur.execute(\"SELECT id, nome, preco, estoque FROM produtos ORDER BY id\"):\n",
        "    print(row)\n",
        "\n",
        "# ---- DELETE: tentar excluir usuário id=3 (vai falhar se houver FKs) ----\n",
        "usuario_id = 3\n",
        "try:\n",
        "    cur.execute(\"DELETE FROM usuarios WHERE id = ?\", (usuario_id,))\n",
        "    if cur.rowcount == 0:\n",
        "        print(f\"\\n[DELETE] Nenhum usuário com id={usuario_id}.\")\n",
        "    else:\n",
        "        con.commit()\n",
        "        print(f\"\\n[DELETE] Usuário id={usuario_id} excluído com sucesso.\")\n",
        "except sqlite3.IntegrityError as e:\n",
        "    print(\"\\n[DELETE] Exclusão bloqueada por vínculo (FK):\", e)\n",
        "\n",
        "# ---- Métricas rápidas ----\n",
        "media_preco = cur.execute(\"SELECT AVG(preco) FROM produtos\").fetchone()[0]\n",
        "total_prod  = cur.execute(\"SELECT COUNT(*) FROM produtos\").fetchone()[0]\n",
        "print(f\"\\nPreço médio dos produtos: {media_preco:.2f}\" if media_preco is not None else \"\\nPreço médio dos produtos: sem dados\")\n",
        "print(f\"Total de produtos cadastrados: {total_prod}\")\n",
        "\n",
        "# ---- Encerrar conexão ----\n",
        "con.close()"
      ],
      "metadata": {
        "id": "F88hO-Lzj8S1"
      },
      "execution_count": null,
      "outputs": []
    },
    {
      "cell_type": "markdown",
      "source": [
        "## 3. Inserindo dados (CREATE)"
      ],
      "metadata": {
        "id": "9h5sZp2dkA9A"
      }
    },
    {
      "cell_type": "code",
      "source": [
        "# ==========================\n",
        "# Seed idempotente (uma célula)\n",
        "# ==========================\n",
        "import sqlite3\n",
        "\n",
        "# Use 'with' para garantir que a conexão fica aberta durante todo o bloco\n",
        "# e que o commit/close acontecem corretamente ao final.\n",
        "with sqlite3.connect(\"usuarios.db\") as con:\n",
        "    cur = con.cursor()\n",
        "\n",
        "    # Ativa validação de chaves estrangeiras nesta conexão\n",
        "    cur.execute(\"PRAGMA foreign_keys = ON;\")\n",
        "\n",
        "    # ---- Cria tabelas se não existirem ----\n",
        "    cur.executescript(\"\"\"\n",
        "    CREATE TABLE IF NOT EXISTS usuarios (\n",
        "        id INTEGER PRIMARY KEY AUTOINCREMENT,\n",
        "        nome  TEXT NOT NULL,\n",
        "        email TEXT UNIQUE NOT NULL,\n",
        "        senha TEXT NOT NULL,\n",
        "        data_criacao TIMESTAMP DEFAULT CURRENT_TIMESTAMP\n",
        "    );\n",
        "\n",
        "    CREATE TABLE IF NOT EXISTS produtos (\n",
        "        id INTEGER PRIMARY KEY AUTOINCREMENT,\n",
        "        nome   TEXT NOT NULL,\n",
        "        preco  REAL NOT NULL,\n",
        "        estoque INTEGER NOT NULL\n",
        "    );\n",
        "\n",
        "    CREATE TABLE IF NOT EXISTS pedidos (\n",
        "        id INTEGER PRIMARY KEY AUTOINCREMENT,\n",
        "        usuario_id INTEGER NOT NULL,\n",
        "        data_pedido TIMESTAMP DEFAULT CURRENT_TIMESTAMP,\n",
        "        status TEXT DEFAULT 'Pendente',\n",
        "        FOREIGN KEY (usuario_id) REFERENCES usuarios(id)\n",
        "    );\n",
        "\n",
        "    CREATE TABLE IF NOT EXISTS itens_pedido (\n",
        "        id INTEGER PRIMARY KEY AUTOINCREMENT,\n",
        "        pedido_id  INTEGER NOT NULL,\n",
        "        produto_id INTEGER NOT NULL,\n",
        "        quantidade INTEGER NOT NULL,\n",
        "        preco_unitario REAL NOT NULL,\n",
        "        FOREIGN KEY (pedido_id)  REFERENCES pedidos(id),\n",
        "        FOREIGN KEY (produto_id) REFERENCES produtos(id)\n",
        "    );\n",
        "    \"\"\")\n",
        "\n",
        "    # Índice único para permitir UPSERT por nome em 'produtos'\n",
        "    cur.execute(\"CREATE UNIQUE INDEX IF NOT EXISTS idx_produtos_nome ON produtos(nome);\")\n",
        "\n",
        "    # ---- Dados para inserir/atualizar ----\n",
        "    usuarios = [\n",
        "        (\"João Silva\",   \"joao@email.com\",   \"123456\"),\n",
        "        (\"Maria Souza\",  \"maria@email.com\",  \"abcdef\"),\n",
        "        (\"Carlos Pereira\",\"carlos@email.com\",\"senha123\"),\n",
        "    ]\n",
        "    produtos = [\n",
        "        (\"Camiseta\",        29.99, 100),\n",
        "        (\"Calça Jeans\",     79.99,  50),\n",
        "        (\"Tênis Esportivo\",129.99,  30),\n",
        "    ]\n",
        "\n",
        "    # ---- UPSERT: insere ou atualiza se já existir ----\n",
        "    cur.executemany(\"\"\"\n",
        "        INSERT INTO usuarios (nome, email, senha)\n",
        "        VALUES (?, ?, ?)\n",
        "        ON CONFLICT(email) DO UPDATE SET\n",
        "            nome  = excluded.nome,\n",
        "            senha = excluded.senha;\n",
        "    \"\"\", usuarios)\n",
        "\n",
        "    cur.executemany(\"\"\"\n",
        "        INSERT INTO produtos (nome, preco, estoque)\n",
        "        VALUES (?, ?, ?)\n",
        "        ON CONFLICT(nome) DO UPDATE SET\n",
        "            preco   = excluded.preco,\n",
        "            estoque = excluded.estoque;\n",
        "    \"\"\", produtos)\n",
        "\n",
        "    # Commit explícito (também será feito automaticamente ao sair do 'with')\n",
        "    con.commit()\n",
        "\n",
        "    # ---- Conferência ----\n",
        "    print(\"Usuários:\")\n",
        "    for row in cur.execute(\"SELECT id, nome, email, datetime(data_criacao) FROM usuarios ORDER BY id\"):\n",
        "        print(row)\n",
        "\n",
        "    print(\"\\nProdutos:\")\n",
        "    for row in cur.execute(\"SELECT id, nome, preco, estoque FROM produtos ORDER BY id\"):\n",
        "        print(row)\n",
        "\n",
        "# Obs.: ao sair do bloco 'with', a conexão é fechada.\n",
        "# Se for executar MAIS comandos depois, abra outra conexão:\n",
        "# con = sqlite3.connect(\"usuarios.db\"); cur = con.cursor()"
      ],
      "metadata": {
        "id": "5azwRRSLkAjB"
      },
      "execution_count": null,
      "outputs": []
    },
    {
      "cell_type": "markdown",
      "source": [
        "## 4. Consultando dados (READ)"
      ],
      "metadata": {
        "id": "Cg-C5TwYkFwD"
      }
    },
    {
      "cell_type": "code",
      "source": [
        "# Consultando usuários\n",
        "print(\"Usuários:\")  # título para a listagem de usuários no console\n",
        "\n",
        "# Executa a query e itera diretamente sobre o cursor.\n",
        "# Cada 'row' é uma tupla no formato: (id, nome, email, senha, data_criacao)\n",
        "for row in cur.execute(\"SELECT * FROM usuarios\"):\n",
        "    print(row)  # imprime a tupla inteira\n",
        "\n",
        "# Consultando produtos\n",
        "print(\"\\nProdutos:\")  # \\n adiciona uma linha em branco antes do próximo título\n",
        "\n",
        "# Executa a query e percorre os resultados da tabela 'produtos'.\n",
        "# Cada 'row' é uma tupla: (id, nome, preco, estoque)\n",
        "for row in cur.execute(\"SELECT * FROM produtos\"):\n",
        "    print(row)  # imprime a tupla inteira"
      ],
      "metadata": {
        "id": "r3xmmJ4-kE7v"
      },
      "execution_count": null,
      "outputs": []
    },
    {
      "cell_type": "markdown",
      "source": [
        "## 5. Atualizando dados (UPDATE)"
      ],
      "metadata": {
        "id": "NGZ9sColkOZ-"
      }
    },
    {
      "cell_type": "code",
      "source": [
        "# Diminui em 1 a quantidade em estoque do produto com id = 1\n",
        "# Atenção: este UPDATE permite estoque negativo se já estiver em 0\n",
        "cur.execute(\"UPDATE produtos SET estoque = estoque - 1 WHERE id = 1\")\n",
        "\n",
        "# Persiste a alteração no arquivo .db\n",
        "con.commit()\n",
        "\n",
        "# Consulta para conferir o resultado após a atualização\n",
        "print(\"\\nEstoque atualizado:\")\n",
        "for row in cur.execute(\"SELECT * FROM produtos\"):\n",
        "    print(row)  # (id, nome, preco, estoque)"
      ],
      "metadata": {
        "id": "tUQRtC1JkOiz"
      },
      "execution_count": null,
      "outputs": []
    },
    {
      "cell_type": "markdown",
      "source": [
        "## 6. Deletando dados (DELETE)"
      ],
      "metadata": {
        "id": "HrZZd3lKkOwX"
      }
    },
    {
      "cell_type": "code",
      "source": [
        "# Exclui o usuário de id = 3 (se existir).\n",
        "# ATENÇÃO: se existir um pedido vinculado a esse usuário e o PRAGMA foreign_keys estiver ON,\n",
        "# o SQLite vai bloquear a exclusão (violação de chave estrangeira).\n",
        "cur.execute(\"DELETE FROM usuarios WHERE id = 3\")\n",
        "\n",
        "# Confirma a transação (torna a exclusão permanente no arquivo .db)\n",
        "con.commit()\n",
        "\n",
        "# Confere como ficou a tabela após a exclusão\n",
        "print(\"\\nUsuários após exclusão:\")\n",
        "for row in cur.execute(\"SELECT * FROM usuarios\"):\n",
        "    print(row)"
      ],
      "metadata": {
        "id": "V-Sff3GDkO1z"
      },
      "execution_count": null,
      "outputs": []
    },
    {
      "cell_type": "markdown",
      "source": [
        "## 7. Consultas com agregação"
      ],
      "metadata": {
        "id": "JWyq9Hb1kO6f"
      }
    },
    {
      "cell_type": "code",
      "source": [
        "# ----- Versão básica (mesma lógica que você usou) -----\n",
        "\n",
        "print(\"\\nPreço médio dos produtos:\")\n",
        "# Executa a agregação AVG(preco). O cursor retorna linhas; cada 'row' é uma tupla.\n",
        "# Aqui virá só 1 linha, com 1 coluna (a média).\n",
        "for row in cur.execute(\"SELECT AVG(preco) FROM produtos\"):\n",
        "    print(row)  # imprime a tupla, ex.: (79.99,)\n",
        "\n",
        "print(\"\\nTotal de produtos cadastrados:\")\n",
        "# COUNT(*) conta todas as linhas da tabela 'produtos'\n",
        "for row in cur.execute(\"SELECT COUNT(*) FROM produtos\"):\n",
        "    print(row)  # imprime a tupla, ex.: (3,)"
      ],
      "metadata": {
        "id": "QE2fKdo5kO_L"
      },
      "execution_count": null,
      "outputs": []
    },
    {
      "cell_type": "markdown",
      "source": [
        "## 8. Exercício: Criando e manipulando uma tabela de categorias"
      ],
      "metadata": {
        "id": "I63uSZb9kPEI"
      }
    },
    {
      "cell_type": "markdown",
      "source": [
        "Agora, crie uma tabela chamada categorias para armazenar as categorias dos produtos.\n",
        "Em seguida:\n",
        "\n",
        "1. Insira pelo menos 3 registros.\n",
        "\n",
        "2. Liste todas as categorias.\n",
        "\n",
        "3. Atualize o nome de uma categoria.\n",
        "\n",
        "4. Exclua uma categoria."
      ],
      "metadata": {
        "id": "dUW6JVuflLis"
      }
    },
    {
      "cell_type": "code",
      "source": [
        "import sqlite3\n",
        "import pandas as pd\n",
        "\n",
        "# ---------------------------\n",
        "# Conectar (usa o mesmo banco cinema.db ou um novo)\n",
        "# ---------------------------\n",
        "conn = sqlite3.connect(\"cinema.db\")\n",
        "cur = conn.cursor()\n",
        "\n",
        "# ---------------------------\n",
        "# 1. Criar tabela categorias\n",
        "# ---------------------------\n",
        "cur.executescript(\"\"\"\n",
        "DROP TABLE IF EXISTS categorias;\n",
        "\n",
        "CREATE TABLE categorias (\n",
        "    id INTEGER PRIMARY KEY AUTOINCREMENT,\n",
        "    nome TEXT NOT NULL\n",
        ");\n",
        "\"\"\")\n",
        "conn.commit()\n",
        "\n",
        "# ---------------------------\n",
        "# 2. Inserir pelo menos 3 registros\n",
        "# ---------------------------\n",
        "cur.executemany(\"\"\"\n",
        "INSERT INTO categorias (nome) VALUES (?);\n",
        "\"\"\", [(\"Eletrônicos\",), (\"Roupas\",), (\"Alimentos\",)])\n",
        "conn.commit()\n",
        "\n",
        "# ---------------------------\n",
        "# 3. Listar todas as categorias\n",
        "# ---------------------------\n",
        "df1 = pd.read_sql_query(\"SELECT * FROM categorias;\", conn)\n",
        "print(\"Categorias cadastradas:\")\n",
        "display(df1)\n",
        "\n",
        "# ---------------------------\n",
        "# 4. Atualizar o nome de uma categoria\n",
        "# Exemplo: mudar 'Roupas' para 'Moda'\n",
        "# ---------------------------\n",
        "cur.execute(\"\"\"\n",
        "UPDATE categorias\n",
        "SET nome = 'Moda'\n",
        "WHERE nome = 'Roupas';\n",
        "\"\"\")\n",
        "conn.commit()\n",
        "\n",
        "df2 = pd.read_sql_query(\"SELECT * FROM categorias;\", conn)\n",
        "print(\"Após atualização:\")\n",
        "display(df2)\n",
        "\n",
        "# ---------------------------\n",
        "# 5. Excluir uma categoria\n",
        "# Exemplo: apagar 'Alimentos'\n",
        "# ---------------------------\n",
        "cur.execute(\"\"\"\n",
        "DELETE FROM categorias\n",
        "WHERE nome = 'Alimentos';\n",
        "\"\"\")\n",
        "conn.commit()\n",
        "\n",
        "df3 = pd.read_sql_query(\"SELECT * FROM categorias;\", conn)\n",
        "print(\"Após exclusão:\")\n",
        "display(df3)\n",
        "\n",
        "# Fechar conexão\n",
        "conn.close()\n"
      ],
      "metadata": {
        "id": "gMwx-pQdkPJE"
      },
      "execution_count": null,
      "outputs": []
    }
  ]
}