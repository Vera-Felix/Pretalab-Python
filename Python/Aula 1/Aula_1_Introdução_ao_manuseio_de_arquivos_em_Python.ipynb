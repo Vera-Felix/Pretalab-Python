{
  "nbformat": 4,
  "nbformat_minor": 0,
  "metadata": {
    "colab": {
      "provenance": []
    },
    "kernelspec": {
      "name": "python3",
      "display_name": "Python 3"
    },
    "language_info": {
      "name": "python"
    }
  },
  "cells": [
    {
      "cell_type": "markdown",
      "source": [
        "# Dicas Colab\n",
        "* Ambiente online\n",
        "* Arquivos temporários vs. permanentes\n",
        "* Recomendação: Desativar assiste de IA :)"
      ],
      "metadata": {
        "id": "TqIWcCwZYDNo"
      }
    },
    {
      "cell_type": "markdown",
      "source": [
        "# Lidando com Arquivos, Pacotes e Módulos\n",
        "\n",
        "#Aula 1: Introdução ao manuseio de arquivos em Python"
      ],
      "metadata": {
        "id": "ffkUyXUw4loY"
      }
    },
    {
      "cell_type": "markdown",
      "source": [
        "# O que são arquivos?\n",
        "Em um computador, um arquivo é um recipiente digital usado para armazenar dados de forma organizada em um dispositivo de armazenamento permanente (como um disco rígido ou SSD)."
      ],
      "metadata": {
        "id": "3T-C_QEP0zrn"
      }
    },
    {
      "cell_type": "markdown",
      "source": [
        "## 1. A função open() e o modo de abertura\n",
        "Para começar a trabalhar com um arquivo, precisamos \"abri-lo\" usando a função open(). Esta função recebe pelo menos dois argumentos:\n",
        "\n",
        "O nome do arquivo (uma string).\n",
        "\n",
        "O modo de abertura (também uma string), que define o que faremos com o arquivo.\n",
        "\n",
        "Os modos mais comuns são:\n",
        "\n",
        "* \"r\": Leitura (read). É o modo padrão. O arquivo precisa existir.\n",
        "\n",
        "* \"w\": Escrita (write). Cria um novo arquivo se ele não existir, ou apaga o conteúdo se ele já existir.\n",
        "\n",
        "* \"a\": Anexar (append). Adiciona conteúdo ao final do arquivo, sem apagar o que já existe.\n",
        "\n",
        "É uma boa prática especificar a codificação para arquivos de texto, como \"utf-8\", para evitar problemas com caracteres especiais."
      ],
      "metadata": {
        "id": "QIIUkQ761Ar6"
      }
    },
    {
      "cell_type": "code",
      "execution_count": 22,
      "metadata": {
        "id": "UNN2EyQE0hfG"
      },
      "outputs": [],
      "source": [
        "# Exemplo de abertura de arquivo para escrita\n",
        "f = open(\"meu_arquivo.txt\", \"w\", encoding=\"utf-8\")\n",
        "f.write(\"Olá, ciclo 14!\\n\")\n",
        "f.write(\"Teste\")\n",
        "f.close()"
      ]
    },
    {
      "cell_type": "code",
      "source": [
        "# Exemplo de abertura para leitura\n",
        "# Criar o arquivo e escrever algo dentro\n",
        "with open(\"meu_arquivo2.txt\", \"w\", encoding=\"utf-8\") as f:\n",
        "    f.write(\"Meu nome é Vera\")\n",
        "# Ler o conteúdo do arquivo\n",
        "with open(\"meu_arquivo2.txt\", \"r\", encoding=\"utf-8\") as f_leitura:\n",
        "    conteudo = f_leitura.read()\n",
        "    print(conteudo)"
      ],
      "metadata": {
        "id": "yX4I_qzPoOwd"
      },
      "execution_count": null,
      "outputs": []
    },
    {
      "cell_type": "code",
      "source": [
        "# Lembre-se de fechar o arquivo após usar\n",
        "f.close()\n",
        "f_leitura.close()"
      ],
      "metadata": {
        "id": "riRRsLE71UWg"
      },
      "execution_count": 13,
      "outputs": []
    },
    {
      "cell_type": "markdown",
      "source": [
        "##2. A palavra-chave with (Recomendado!)\n",
        "\n",
        "Usar with é a maneira mais segura e recomendada de trabalhar com arquivos. Ele garante que o arquivo será fechado automaticamente, mesmo se ocorrer um erro no seu código."
      ],
      "metadata": {
        "id": "nKV1xHGq1e5f"
      }
    },
    {
      "cell_type": "code",
      "source": [
        "# Vamos criar um arquivo de texto com a frase 'Olá, mundo!'\n",
        "f = open(\"meu_arquivo.txt\", \"w\", encoding=\"utf-8\")\n",
        "with open(\"meu_arquivo1.txt\", \"w\", encoding=\"utf-8\") as f:\n",
        "    f.write(\"Meu nome é Vera!\")\n",
        "    f.close()\n",
        "# O arquivo agora está fechado e o conteúdo foi salvo."
      ],
      "metadata": {
        "id": "RRzDkdcX1VpZ"
      },
      "execution_count": 27,
      "outputs": []
    },
    {
      "cell_type": "markdown",
      "source": [
        "## 3. Leitura de Arquivos\n",
        "\n",
        "Depois de abrir um arquivo para leitura, podemos usar diferentes métodos para acessar seu conteúdo.\n",
        "\n",
        "Lendo o conteúdo inteiro\n",
        "O método f.read() lê todo o conteúdo do arquivo e o retorna como uma única string."
      ],
      "metadata": {
        "id": "OtN8rVgJ1spr"
      }
    },
    {
      "cell_type": "code",
      "source": [
        "# Considerando que o arquivo 'exemplo.txt' já existe\n",
        "with open(\"exemplo.txt\", \"r\", encoding=\"utf-8\") as f:\n",
        "  #"
      ],
      "metadata": {
        "id": "TxTGyQqW1sGw"
      },
      "execution_count": null,
      "outputs": []
    },
    {
      "cell_type": "markdown",
      "source": [
        "### Lendo linha por linha\n",
        "\n",
        "O método f.readline() lê uma única linha do arquivo a cada vez que é chamado."
      ],
      "metadata": {
        "id": "GUrZ5246162j"
      }
    },
    {
      "cell_type": "code",
      "source": [
        "  with open(\"exemplo2.txt\", \"w\", encoding=\"utf-8\") as f:\n",
        "    f.write(\"Primeira linha.\\n\")\n",
        "    f.write(\"Segunda linha.\\n\")\n",
        "    f.write(\"Terceira linha.\\n\")"
      ],
      "metadata": {
        "id": "3PHr-8jA1lKr"
      },
      "execution_count": 56,
      "outputs": []
    },
    {
      "cell_type": "code",
      "source": [
        "with open(\"exemplo.txt\", \"r\", encoding=\"utf-8\") as f:\n",
        "  #"
      ],
      "metadata": {
        "id": "8k_RgC-w2Amg"
      },
      "execution_count": null,
      "outputs": []
    },
    {
      "cell_type": "markdown",
      "source": [
        "## 4. Escrita e Adição de Conteúdo\n",
        "\n",
        "Escrevendo em um arquivo (\"w\")\n",
        "Lembre-se: o modo \"w\" apaga o conteúdo anterior!"
      ],
      "metadata": {
        "id": "pLtWJ9zS2efi"
      }
    },
    {
      "cell_type": "code",
      "source": [
        "  with open(\"log.txt\", \"w\", encoding=\"utf-8\") as f:\n",
        "    f.write(\"Iniciando o log.\\n\")\n",
        "    f.write(\"Evento 1\\n\")\n",
        "    f.write(\"Evento 2\\n\")\n",
        "# ↑ comentário alinhado fora do bloco\n",
        "\n",
        "# Ao rodar novamente, ele apaga as linhas anteriores e recomeça.\n",
        "with open(\"log.txt\", \"w\", encoding=\"utf-8\") as f:\n",
        "    pass  # ← placeholder para não deixar o bloco vazio"
      ],
      "metadata": {
        "id": "mKqUGKy92Cqg"
      },
      "execution_count": 57,
      "outputs": []
    },
    {
      "cell_type": "markdown",
      "source": [
        "### Adicionando conteúdo (\"a\")\n",
        "\n",
        "O modo \"a\" (append) adiciona o novo conteúdo ao final do arquivo."
      ],
      "metadata": {
        "id": "BVmWtpX12mYe"
      }
    },
    {
      "cell_type": "code",
      "source": [
        "# Vamos começar com um arquivo vazio\n",
        "with open(\"lista_de_tarefas.txt\", \"w\", encoding=\"utf-8\") as f:\n",
        "    pass  # não faz nada; só evita bloco vazio e cria/zera o arquivo"
      ],
      "metadata": {
        "id": "M4ZIWxp-2kZp"
      },
      "execution_count": 64,
      "outputs": []
    },
    {
      "cell_type": "code",
      "source": [
        "# Adicionando tarefas\n",
        "with open(\"lista_de_tarefas.txt\", \"a\", encoding=\"utf-8\") as f:\n",
        "    f.write(\"Comprar frutas\\n\")\n",
        "    f.write(\"Pagar contas\\n\")\n",
        "    f.write(\"Estudar Python\\n\")\n",
        "    f.write(\"Organizar agenda\\n\")"
      ],
      "metadata": {
        "id": "JYQTpxoz2sFi"
      },
      "execution_count": 65,
      "outputs": []
    },
    {
      "cell_type": "code",
      "source": [
        "# Adicionando mais uma tarefa depois\n",
        "with open(\"lista_de_tarefas.txt\", \"a\", encoding=\"utf-8\") as f:\n",
        "    f.write(\"Beber água\\n\")"
      ],
      "metadata": {
        "id": "ZCb5XWLg2tjE"
      },
      "execution_count": 66,
      "outputs": []
    },
    {
      "cell_type": "code",
      "source": [
        "# Verificando o conteúdo final\n",
        "with open(\"lista_de_tarefas.txt\", \"r\", encoding=\"utf-8\") as f:\n",
        "    print(f.read())"
      ],
      "metadata": {
        "id": "yavoiNZL2u0B"
      },
      "execution_count": null,
      "outputs": []
    },
    {
      "cell_type": "markdown",
      "source": [
        "**Lista de tareafas:**"
      ],
      "metadata": {
        "id": "sKv9LLVrsLBA"
      }
    },
    {
      "cell_type": "code",
      "source": [
        "# Lista de tarefas inicial (vazia)\n",
        "# Cria um arquivo vazio\n",
        "with open(\"lista_tarefas.txt\", \"w\", encoding=\"utf-8\") as f:\n",
        "    pass  # não escreve nada, só cria\n",
        "\n",
        "# O pass em Python é tipo um “faz nada”. Ele serve quando o Python espera um comando, mas você não quer colocar nada ainda.\n",
        "# O with open(..., \"w\") já cria o arquivo.\n",
        "# Se você não escrever nada dentro, o arquivo fica vazio.\n",
        "# Mas o Python não aceita bloco vazio → por isso colocamos pass como “ocupante de espaço”.\n",
        "\n",
        "# Escrevendo 4 tarefas no arquivo\n",
        "with open(\"lista_tarefas.txt\", \"w\", encoding=\"utf-8\") as f:\n",
        "    f.write(\"1. Estudar abertura e fechamento de arquivos\\n\")\n",
        "    f.write(\"2. Praticar escrita com .write()\\n\")\n",
        "    f.write(\"3. Praticar leitura com .read()\\n\")\n",
        "    f.write(\"4. Testar no Colab e salvar no GitHub\\n\")"
      ],
      "metadata": {
        "id": "M-3Kh3xDsOX8"
      },
      "execution_count": 30,
      "outputs": []
    },
    {
      "cell_type": "code",
      "source": [
        "# Se a sua intenção é criar o arquivo já com as tarefas, então nem precisa do pass.\n",
        "with open(\"lista_tarefas1.txt\", \"w\", encoding=\"utf-8\") as f:\n",
        "    f.write(\"1. Estudar abertura e fechamento de arquivos\\n\")\n",
        "    f.write(\"2. Praticar escrita com .write()\\n\")\n",
        "    f.write(\"3. Praticar leitura com .read()\\n\")\n",
        "    f.write(\"4. Testar no Colab e salvar no GitHub\\n\")"
      ],
      "metadata": {
        "id": "lM8XV5TctNCS"
      },
      "execution_count": 31,
      "outputs": []
    },
    {
      "cell_type": "markdown",
      "source": [
        "## Agora, é com você!\n",
        "\n",
        "Lembre-se dos modos de abertura de arquivo:"
      ],
      "metadata": {
        "id": "HIO_0Uvl4d-O"
      }
    },
    {
      "cell_type": "markdown",
      "source": [
        "| Modo   | Significado               | O que acontece                                                         | Analogia                                                                              |\n",
        "| ------ | ------------------------- | ---------------------------------------------------------------------- | ------------------------------------------------------------------------------------- |\n",
        "| `\"r\"`  | **read (ler)**            | Abre o arquivo existente para leitura. Erro se não existir.            | Abrir um caderno só para ler, sem caneta.                                             |\n",
        "| `\"w\"`  | **write (escrever)**      | Cria um novo arquivo ou **apaga tudo** no existente antes de escrever. | Comprar um caderno novo, ou apagar todo o conteúdo do antigo.                         |\n",
        "| `\"a\"`  | **append (acrescentar)**  | Abre o arquivo e escreve **no final** sem apagar o conteúdo.           | Continuar escrevendo no final do caderno.                                             |\n",
        "| `\"x\"`  | **exclusive (exclusivo)** | Cria um novo arquivo, mas dá erro se já existir.                       | Tentar comprar um caderno que só pode ser novo.                                       |\n",
        "| `\"r+\"` | **read + write**          | Lê e escreve no arquivo, sem apagar.                                   | Ler e escrever no mesmo caderno.                                                      |\n",
        "| `\"w+\"` | **write + read**          | Apaga o conteúdo e permite escrever e ler de novo.                     | Pega o caderno, apaga tudo e começa do zero, mas ainda pode ler o que for escrevendo. |\n"
      ],
      "metadata": {
        "id": "PKxB3ALgSfMc"
      }
    },
    {
      "cell_type": "markdown",
      "source": [
        "### Exercicío 1\n",
        "\n",
        "1. Crie e escreva: Crie um arquivo chamado saudacao.txt e escreva a frase \"Olá, bem-vindo ao mundo dos arquivos em Python!\".\n",
        "\n",
        "2. Leia e imprima: Abra o arquivo saudacao.txt que você acabou de criar, leia seu conteúdo e imprima na tela.\n",
        "\n",
        "3. Adicione e verifique: Adicione uma nova linha ao arquivo saudacao.txt com seu nome. Em seguida, leia o arquivo novamente e imprima todo o conteúdo para confirmar que as duas linhas estão lá."
      ],
      "metadata": {
        "id": "Ipar7FTO3FRz"
      }
    },
    {
      "cell_type": "code",
      "source": [
        "# Criar/escrever no arquivo\n",
        "with open(\"saudacao.txt\", \"w\", encoding=\"utf-8\") as f:\n",
        "    f.write(\"Olá, bem-vindo ao mundo dos arquivos em Python!\\nMeu nome é Vera\")\n",
        "\n",
        "# Ler e mostrar na tela\n",
        "with open(\"saudacao.txt\", \"r\", encoding=\"utf-8\") as f:\n",
        "    conteudo = f.read()\n",
        "    print(conteudo)"
      ],
      "metadata": {
        "id": "hmjbQzsE4HFE"
      },
      "execution_count": null,
      "outputs": []
    },
    {
      "cell_type": "code",
      "source": [
        "with open(\"saudacao.txt\", \"r\", encoding=\"utf-8\") as f:\n",
        "    conteudo = f.read()   # lê tudo e guarda\n",
        "    print(conteudo)       # usa depois"
      ],
      "metadata": {
        "id": "bcbqhJQPucWX"
      },
      "execution_count": null,
      "outputs": []
    },
    {
      "cell_type": "markdown",
      "source": [
        "### Exercício 2\n",
        "\n",
        "1. Crie um arquivo de texto e adicione itens de uma lista de compras.\n",
        "2. Em seguida, escreva um programa para ler o arquivo criado e adicionar itens na lista."
      ],
      "metadata": {
        "id": "hT_krj-T3kse"
      }
    },
    {
      "cell_type": "code",
      "source": [
        "# criar o arquivo e colocar produtos na lista\n",
        "f = open(\"lista_compras.txt\", \"w\", encoding=\"utf-8\")\n",
        "f.write(\"Maçã\\n\")\n",
        "f.write(\"Banana\\n\")\n",
        "f.write(\"Laranja\\n\")\n",
        "f.write(\"Pêra\\n\")\n",
        "f.write(\"Uva\\n\")\n",
        "f.write(\"Abacate\\n\")\n",
        "f.write(\"Melancia\\n\")\n",
        "f.write(\"Abacaxi\\n\")\n",
        "f.write(\"Manga\\n\")\n",
        "f.write(\"Kiwi\\n\")\n",
        "f.close()"
      ],
      "metadata": {
        "id": "CUCm9m0S4bvl"
      },
      "execution_count": 51,
      "outputs": []
    },
    {
      "cell_type": "code",
      "source": [
        "# Abrir o arquivo \"lista_compras.txt\" no modo leitura (\"r\")\n",
        "# encoding=\"utf-8\" garante que acentos e caracteres especiais funcionem direitinho\n",
        "f = open(\"lista_compras.txt\", \"r\", encoding=\"utf-8\")\n",
        "\n",
        "# Mensagem para identificar o que será mostrado\n",
        "print(\"Lista inicial de compras:\")\n",
        "\n",
        "# Ler todo o conteúdo do arquivo de uma vez e mostrar na tela\n",
        "print(f.read())\n",
        "\n",
        "# Fechar o arquivo (boa prática: sempre fechar depois de usar)\n",
        "f.close()"
      ],
      "metadata": {
        "id": "dhTrl-JLwzAj"
      },
      "execution_count": null,
      "outputs": []
    },
    {
      "cell_type": "code",
      "source": [
        "# Abrir o arquivo \"lista_compras.txt\" no modo append (\"a\")\n",
        "# O modo \"a\" serve para adicionar conteúdo no final do arquivo\n",
        "# sem apagar o que já existe dentro dele\n",
        "f = open(\"lista_compras.txt\", \"a\", encoding=\"utf-8\")\n",
        "\n",
        "# Escrever novos itens no final do arquivo\n",
        "# Cada item termina com \"\\n\" para pular uma linha\n",
        "f.write(\"Tomate\\n\")\n",
        "f.write(\"Cenoura\\n\")\n",
        "f.write(\"Batata\\n\")\n",
        "\n",
        "# Fechar o arquivo (boa prática)\n",
        "f.close()"
      ],
      "metadata": {
        "id": "V9hRmjtcxV_E"
      },
      "execution_count": 53,
      "outputs": []
    },
    {
      "cell_type": "code",
      "source": [
        "# Abrir o arquivo no modo leitura\n",
        "f = open(\"lista_compras.txt\", \"r\", encoding=\"utf-8\")\n",
        "\n",
        "# Ler todas as linhas e guardar em uma lista\n",
        "itens = f.readlines()\n",
        "\n",
        "# Fechar o arquivo (boa prática)\n",
        "f.close()\n",
        "\n",
        "# Ordenar a lista em ordem alfabética\n",
        "itens.sort()\n",
        "\n",
        "# Mostrar a lista na tela\n",
        "print(\"📌 Lista em ordem alfabética:\")\n",
        "for item in itens:\n",
        "    print(item.strip())  # .strip() remove a quebra de linha (\\n) no final de cada item"
      ],
      "metadata": {
        "id": "Atw2OyUayFef"
      },
      "execution_count": null,
      "outputs": []
    },
    {
      "cell_type": "markdown",
      "source": [
        "### Desafio\n",
        "\n",
        "1. Leia a lista de compras do arquivo, organize-a em ordem alfabética e salve em um novo arquivo."
      ],
      "metadata": {
        "id": "uIl7sYCZ4VqN"
      }
    },
    {
      "cell_type": "code",
      "source": [
        "# 1. Ler a lista de compras do arquivo original\n",
        "f = open(\"lista_compras.txt\", \"r\", encoding=\"utf-8\")\n",
        "itens = f.readlines()   # transforma em lista (cada linha é um item)\n",
        "f.close()\n",
        "\n",
        "# 2. Organizar em ordem alfabética\n",
        "itens.sort()\n",
        "\n",
        "# 3. Salvar a lista organizada em um novo arquivo\n",
        "f = open(\"lista_compras_ordenada.txt\", \"w\", encoding=\"utf-8\")\n",
        "for item in itens:\n",
        "    f.write(item)   # cada item já tem \\n no final\n",
        "f.close()\n",
        "\n",
        "# 4. Conferir o novo arquivo\n",
        "f = open(\"lista_compras_ordenada.txt\", \"r\", encoding=\"utf-8\")\n",
        "print(\"📌 Lista de compras em ordem alfabética:\")\n",
        "print(f.read())\n",
        "f.close()"
      ],
      "metadata": {
        "id": "Kms-ssFL4Urr"
      },
      "execution_count": null,
      "outputs": []
    },
    {
      "cell_type": "markdown",
      "source": [
        "**Importando os arquivos da aula de hoje para o repositório local**"
      ],
      "metadata": {
        "id": "frgKJnnX-jA_"
      }
    },
    {
      "cell_type": "code",
      "source": [
        "from google.colab import files"
      ],
      "metadata": {
        "id": "D8vS1w_14xQx"
      },
      "execution_count": 68,
      "outputs": []
    },
    {
      "cell_type": "code",
      "source": [
        "files.download(\"lista_compras.txt\")\n",
        "files.download(\"lista_compras_ordenada.txt\")\n",
        "files.download(\"lista_de_tarefas.txt\")\n",
        "files.download(\"lista_tarefas.txt\")\n",
        "files.download(\"lista_tarefas1.txt\")\n",
        "files.download(\"log.txt\")\n",
        "files.download(\"meu_arquivo.txt\")\n",
        "files.download(\"meu_arquivo1.txt\")\n",
        "files.download(\"meu_arquivo2.txt\")\n",
        "files.download(\"saudacao.txt\")\n",
        "files.download(\"saudacao1.txt\")"
      ],
      "metadata": {
        "id": "RvZT2tgE4zCR"
      },
      "execution_count": null,
      "outputs": []
    },
    {
      "cell_type": "markdown",
      "source": [
        "# Próxima Aula: Explorando pacotes e módulos em Python\n"
      ],
      "metadata": {
        "id": "UacePPDj6Edq"
      }
    },
    {
      "cell_type": "code",
      "source": [],
      "metadata": {
        "id": "dqrdWztc5T_e"
      },
      "execution_count": null,
      "outputs": []
    }
  ]
}