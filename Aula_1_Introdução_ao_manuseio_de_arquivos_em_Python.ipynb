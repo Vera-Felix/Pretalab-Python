{
  "nbformat": 4,
  "nbformat_minor": 0,
  "metadata": {
    "colab": {
      "provenance": [],
      "include_colab_link": true
    },
    "kernelspec": {
      "name": "python3",
      "display_name": "Python 3"
    },
    "language_info": {
      "name": "python"
    }
  },
  "cells": [
    {
      "cell_type": "markdown",
      "metadata": {
        "id": "view-in-github",
        "colab_type": "text"
      },
      "source": [
        "<a href=\"https://colab.research.google.com/github/Vera-Felix/Pretalab-Python/blob/main/Aula_1_Introdu%C3%A7%C3%A3o_ao_manuseio_de_arquivos_em_Python.ipynb\" target=\"_parent\"><img src=\"https://colab.research.google.com/assets/colab-badge.svg\" alt=\"Open In Colab\"/></a>"
      ]
    },
    {
      "cell_type": "markdown",
      "source": [
        "# Dicas Colab\n",
        "* Ambiente online\n",
        "* Arquivos temporários vs. permanentes\n",
        "* Recomendação: Desativar assiste de IA :)"
      ],
      "metadata": {
        "id": "TqIWcCwZYDNo"
      }
    },
    {
      "cell_type": "markdown",
      "source": [
        "# Lidando com Arquivos, Pacotes e Módulos\n",
        "\n",
        "#Aula 1: Introdução ao manuseio de arquivos em Python"
      ],
      "metadata": {
        "id": "ffkUyXUw4loY"
      }
    },
    {
      "cell_type": "markdown",
      "source": [
        "# O que são arquivos?\n",
        "Em um computador, um arquivo é um recipiente digital usado para armazenar dados de forma organizada em um dispositivo de armazenamento permanente (como um disco rígido ou SSD)."
      ],
      "metadata": {
        "id": "3T-C_QEP0zrn"
      }
    },
    {
      "cell_type": "markdown",
      "source": [
        "## 1. A função open() e o modo de abertura\n",
        "Para começar a trabalhar com um arquivo, precisamos \"abri-lo\" usando a função open(). Esta função recebe pelo menos dois argumentos:\n",
        "\n",
        "O nome do arquivo (uma string).\n",
        "\n",
        "O modo de abertura (também uma string), que define o que faremos com o arquivo.\n",
        "\n",
        "Os modos mais comuns são:\n",
        "\n",
        "* \"r\": Leitura (read). É o modo padrão. O arquivo precisa existir.\n",
        "\n",
        "* \"w\": Escrita (write). Cria um novo arquivo se ele não existir, ou apaga o conteúdo se ele já existir.\n",
        "\n",
        "* \"a\": Anexar (append). Adiciona conteúdo ao final do arquivo, sem apagar o que já existe.\n",
        "\n",
        "É uma boa prática especificar a codificação para arquivos de texto, como \"utf-8\", para evitar problemas com caracteres especiais."
      ],
      "metadata": {
        "id": "QIIUkQ761Ar6"
      }
    },
    {
      "cell_type": "code",
      "execution_count": null,
      "metadata": {
        "id": "UNN2EyQE0hfG"
      },
      "outputs": [],
      "source": [
        "# Exemplo de abertura de arquivo para escrita\n",
        "f = open(\"meu_arquivo.txt\", \"w\", encoding=\"utf-8\")\n",
        "\n",
        "# Exemplo de abertura para leitura\n"
      ]
    },
    {
      "cell_type": "code",
      "source": [
        "# Lembre-se de fechar o arquivo após usar\n",
        "f.close()\n"
      ],
      "metadata": {
        "id": "riRRsLE71UWg"
      },
      "execution_count": null,
      "outputs": []
    },
    {
      "cell_type": "markdown",
      "source": [
        "##2. A palavra-chave with (Recomendado!)\n",
        "\n",
        "Usar with é a maneira mais segura e recomendada de trabalhar com arquivos. Ele garante que o arquivo será fechado automaticamente, mesmo se ocorrer um erro no seu código."
      ],
      "metadata": {
        "id": "nKV1xHGq1e5f"
      }
    },
    {
      "cell_type": "code",
      "source": [
        "# Vamos criar um arquivo de texto com a frase 'Olá, mundo!'\n",
        "\n",
        "\n",
        "# O arquivo agora está fechado e o conteúdo foi salvo."
      ],
      "metadata": {
        "id": "RRzDkdcX1VpZ"
      },
      "execution_count": null,
      "outputs": []
    },
    {
      "cell_type": "markdown",
      "source": [
        "## 3. Leitura de Arquivos\n",
        "\n",
        "Depois de abrir um arquivo para leitura, podemos usar diferentes métodos para acessar seu conteúdo.\n",
        "\n",
        "Lendo o conteúdo inteiro\n",
        "O método f.read() lê todo o conteúdo do arquivo e o retorna como uma única string."
      ],
      "metadata": {
        "id": "OtN8rVgJ1spr"
      }
    },
    {
      "cell_type": "code",
      "source": [
        "# Considerando que o arquivo 'exemplo.txt' já existe\n",
        "with open(\"exemplo.txt\", \"r\", encoding=\"utf-8\") as f:\n",
        "  #"
      ],
      "metadata": {
        "id": "TxTGyQqW1sGw"
      },
      "execution_count": null,
      "outputs": []
    },
    {
      "cell_type": "markdown",
      "source": [
        "### Lendo linha por linha\n",
        "\n",
        "O método f.readline() lê uma única linha do arquivo a cada vez que é chamado."
      ],
      "metadata": {
        "id": "GUrZ5246162j"
      }
    },
    {
      "cell_type": "code",
      "source": [
        "with open(\"exemplo2.txt\", \"w\", encoding=\"utf-8\") as f:\n",
        "    f.write(\"Primeira linha.\\n\")\n",
        "    f.write(\"Segunda linha.\\n\")\n",
        "    f.write(\"Terceira linha.\\n\")"
      ],
      "metadata": {
        "id": "3PHr-8jA1lKr"
      },
      "execution_count": null,
      "outputs": []
    },
    {
      "cell_type": "code",
      "source": [
        "with open(\"exemplo.txt\", \"r\", encoding=\"utf-8\") as f:\n",
        "  #"
      ],
      "metadata": {
        "id": "8k_RgC-w2Amg"
      },
      "execution_count": null,
      "outputs": []
    },
    {
      "cell_type": "markdown",
      "source": [
        "## 4. Escrita e Adição de Conteúdo\n",
        "\n",
        "Escrevendo em um arquivo (\"w\")\n",
        "Lembre-se: o modo \"w\" apaga o conteúdo anterior!"
      ],
      "metadata": {
        "id": "pLtWJ9zS2efi"
      }
    },
    {
      "cell_type": "code",
      "source": [
        "with open(\"log.txt\", \"w\", encoding=\"utf-8\") as f:\n",
        "    #\n",
        "\n",
        "# Ao rodar novamente, ele apaga as linhas anteriores e recomeça.\n",
        "with open(\"log.txt\", \"w\", encoding=\"utf-8\") as f:\n",
        "    #"
      ],
      "metadata": {
        "id": "mKqUGKy92Cqg"
      },
      "execution_count": null,
      "outputs": []
    },
    {
      "cell_type": "markdown",
      "source": [
        "### Adicionando conteúdo (\"a\")\n",
        "\n",
        "O modo \"a\" (append) adiciona o novo conteúdo ao final do arquivo."
      ],
      "metadata": {
        "id": "BVmWtpX12mYe"
      }
    },
    {
      "cell_type": "code",
      "source": [
        "# Vamos começar com um arquivo vazio\n",
        "with open(\"lista_de_tarefas.txt\", \"w\", encoding=\"utf-8\") as f:\n",
        "    pass"
      ],
      "metadata": {
        "id": "M4ZIWxp-2kZp"
      },
      "execution_count": null,
      "outputs": []
    },
    {
      "cell_type": "code",
      "source": [
        "# Adicionando tarefas\n",
        "with open(\"lista_de_tarefas.txt\", \"\", encoding=\"utf-8\") as f:\n",
        "    #"
      ],
      "metadata": {
        "id": "JYQTpxoz2sFi"
      },
      "execution_count": null,
      "outputs": []
    },
    {
      "cell_type": "code",
      "source": [
        "# Adicionando mais uma tarefa depois\n",
        "with open(\"lista_de_tarefas.txt\", \"\", encoding=\"utf-8\") as f:\n",
        "    #"
      ],
      "metadata": {
        "id": "ZCb5XWLg2tjE"
      },
      "execution_count": null,
      "outputs": []
    },
    {
      "cell_type": "code",
      "source": [
        "# Verificando o conteúdo final\n",
        "with open(\"lista_de_tarefas.txt\", \"r\", encoding=\"utf-8\") as f:\n",
        "    print(f.read())"
      ],
      "metadata": {
        "id": "yavoiNZL2u0B"
      },
      "execution_count": null,
      "outputs": []
    },
    {
      "cell_type": "markdown",
      "source": [
        "## Agora, é com você!\n",
        "\n",
        "Lembre-se dos modos de abertura de arquivo:"
      ],
      "metadata": {
        "id": "HIO_0Uvl4d-O"
      }
    },
    {
      "cell_type": "markdown",
      "source": [
        "| Modo   | Significado               | O que acontece                                                         | Analogia                                                                              |\n",
        "| ------ | ------------------------- | ---------------------------------------------------------------------- | ------------------------------------------------------------------------------------- |\n",
        "| `\"r\"`  | **read (ler)**            | Abre o arquivo existente para leitura. Erro se não existir.            | Abrir um caderno só para ler, sem caneta.                                             |\n",
        "| `\"w\"`  | **write (escrever)**      | Cria um novo arquivo ou **apaga tudo** no existente antes de escrever. | Comprar um caderno novo, ou apagar todo o conteúdo do antigo.                         |\n",
        "| `\"a\"`  | **append (acrescentar)**  | Abre o arquivo e escreve **no final** sem apagar o conteúdo.           | Continuar escrevendo no final do caderno.                                             |\n",
        "| `\"x\"`  | **exclusive (exclusivo)** | Cria um novo arquivo, mas dá erro se já existir.                       | Tentar comprar um caderno que só pode ser novo.                                       |\n",
        "| `\"r+\"` | **read + write**          | Lê e escreve no arquivo, sem apagar.                                   | Ler e escrever no mesmo caderno.                                                      |\n",
        "| `\"w+\"` | **write + read**          | Apaga o conteúdo e permite escrever e ler de novo.                     | Pega o caderno, apaga tudo e começa do zero, mas ainda pode ler o que for escrevendo. |\n"
      ],
      "metadata": {
        "id": "PKxB3ALgSfMc"
      }
    },
    {
      "cell_type": "markdown",
      "source": [
        "### Exercicío 1\n",
        "\n",
        "1. Crie e escreva: Crie um arquivo chamado saudacao.txt e escreva a frase \"Olá, bem-vindo ao mundo dos arquivos em Python!\".\n",
        "\n",
        "2. Leia e imprima: Abra o arquivo saudacao.txt que você acabou de criar, leia seu conteúdo e imprima na tela.\n",
        "\n",
        "3. Adicione e verifique: Adicione uma nova linha ao arquivo saudacao.txt com seu nome. Em seguida, leia o arquivo novamente e imprima todo o conteúdo para confirmar que as duas linhas estão lá."
      ],
      "metadata": {
        "id": "Ipar7FTO3FRz"
      }
    },
    {
      "cell_type": "code",
      "source": [],
      "metadata": {
        "id": "hmjbQzsE4HFE"
      },
      "execution_count": null,
      "outputs": []
    },
    {
      "cell_type": "markdown",
      "source": [
        "### Exercício 2\n",
        "\n",
        "1. Crie um arquivo de texto e adicione itens de uma lista de compras.\n",
        "2. Em seguida, escreva um programa para ler o arquivo criado e adicionar itens na lista."
      ],
      "metadata": {
        "id": "hT_krj-T3kse"
      }
    },
    {
      "cell_type": "code",
      "source": [],
      "metadata": {
        "id": "CUCm9m0S4bvl"
      },
      "execution_count": null,
      "outputs": []
    },
    {
      "cell_type": "markdown",
      "source": [
        "### Desafio\n",
        "\n",
        "1. Leia a lista de compras do arquivo, organize-a em ordem alfabética e salve em um novo arquivo."
      ],
      "metadata": {
        "id": "uIl7sYCZ4VqN"
      }
    },
    {
      "cell_type": "code",
      "source": [],
      "metadata": {
        "id": "Kms-ssFL4Urr"
      },
      "execution_count": null,
      "outputs": []
    },
    {
      "cell_type": "markdown",
      "source": [
        "# Próxima Aula: Explorando pacotes e módulos em Python\n"
      ],
      "metadata": {
        "id": "UacePPDj6Edq"
      }
    }
  ]
}